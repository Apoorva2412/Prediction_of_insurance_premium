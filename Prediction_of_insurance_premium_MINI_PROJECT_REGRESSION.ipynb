{
 "cells": [
  {
   "cell_type": "markdown",
   "id": "3719cbac",
   "metadata": {},
   "source": [
    "# MINI PROJECT 1\n",
    "# Regression Prediction of insurance premium"
   ]
  },
  {
   "cell_type": "markdown",
   "id": "598b4cca",
   "metadata": {},
   "source": [
    "# Importing important python libraries "
   ]
  },
  {
   "cell_type": "code",
   "execution_count": 1,
   "id": "7212c37d",
   "metadata": {},
   "outputs": [],
   "source": [
    "# General Libraries \n",
    "import pandas as pd\n",
    "import numpy as np \n",
    "import matplotlib.pyplot as plt\n",
    "import seaborn as sb      \n",
    "import warnings\n",
    "warnings.filterwarnings(\"ignore\")\n",
    "\n",
    "\n",
    "# Data Preprocessing \n",
    "from sklearn import preprocessing\n",
    "from sklearn.preprocessing import MinMaxScaler, StandardScaler\n",
    "from sklearn.preprocessing import LabelEncoder\n",
    "\n",
    "# Data splitting \n",
    "from sklearn.model_selection import train_test_split\n",
    "\n",
    "# Linear Regression \n",
    "from sklearn.linear_model import LinearRegression\n",
    "\n",
    "# Regression Metrics \n",
    "from sklearn.metrics import mean_squared_error\n",
    "from sklearn.metrics import mean_absolute_error\n",
    "from sklearn.datasets import make_regression\n",
    "\n",
    "# Decision Tree Regression Model \n",
    "from sklearn.tree import DecisionTreeRegressor\n",
    "from sklearn.model_selection import cross_val_score, cross_val_predict, train_test_split\n",
    "from sklearn import tree\n",
    "\n",
    "\n",
    "# Random Forest \n",
    "from sklearn.ensemble import RandomForestRegressor\n",
    "from sklearn.model_selection import RepeatedKFold\n",
    "\n",
    "# Grid Search for cross validation \n",
    "from sklearn.model_selection import GridSearchCV\n",
    "\n",
    "\n",
    "# Logistic Regression\n",
    "from sklearn.linear_model import LogisticRegression\n",
    "from sklearn.metrics import confusion_matrix\n",
    "from sklearn.metrics import recall_score\n",
    "from sklearn.metrics import f1_score\n",
    "from sklearn.metrics import accuracy_score\n",
    "from sklearn.metrics import precision_score\n",
    "from sklearn.metrics import roc_auc_score\n",
    "from sklearn.metrics import roc_curve\n"
   ]
  },
  {
   "cell_type": "markdown",
   "id": "9b0469d5",
   "metadata": {},
   "source": [
    "# Importing the dataset"
   ]
  },
  {
   "cell_type": "code",
   "execution_count": 2,
   "id": "cf98a43c",
   "metadata": {},
   "outputs": [
    {
     "data": {
      "text/html": [
       "<div>\n",
       "<style scoped>\n",
       "    .dataframe tbody tr th:only-of-type {\n",
       "        vertical-align: middle;\n",
       "    }\n",
       "\n",
       "    .dataframe tbody tr th {\n",
       "        vertical-align: top;\n",
       "    }\n",
       "\n",
       "    .dataframe thead th {\n",
       "        text-align: right;\n",
       "    }\n",
       "</style>\n",
       "<table border=\"1\" class=\"dataframe\">\n",
       "  <thead>\n",
       "    <tr style=\"text-align: right;\">\n",
       "      <th></th>\n",
       "      <th>age</th>\n",
       "      <th>sex</th>\n",
       "      <th>bmi</th>\n",
       "      <th>classif</th>\n",
       "      <th>children</th>\n",
       "      <th>smoker</th>\n",
       "      <th>region</th>\n",
       "      <th>charges</th>\n",
       "    </tr>\n",
       "  </thead>\n",
       "  <tbody>\n",
       "    <tr>\n",
       "      <th>0</th>\n",
       "      <td>19</td>\n",
       "      <td>female</td>\n",
       "      <td>27.900</td>\n",
       "      <td>PREO</td>\n",
       "      <td>0</td>\n",
       "      <td>yes</td>\n",
       "      <td>southwest</td>\n",
       "      <td>16884.92400</td>\n",
       "    </tr>\n",
       "    <tr>\n",
       "      <th>1</th>\n",
       "      <td>18</td>\n",
       "      <td>male</td>\n",
       "      <td>33.770</td>\n",
       "      <td>OB1</td>\n",
       "      <td>1</td>\n",
       "      <td>no</td>\n",
       "      <td>southeast</td>\n",
       "      <td>1725.55230</td>\n",
       "    </tr>\n",
       "    <tr>\n",
       "      <th>2</th>\n",
       "      <td>28</td>\n",
       "      <td>male</td>\n",
       "      <td>33.000</td>\n",
       "      <td>OB1</td>\n",
       "      <td>3</td>\n",
       "      <td>no</td>\n",
       "      <td>southeast</td>\n",
       "      <td>4449.46200</td>\n",
       "    </tr>\n",
       "    <tr>\n",
       "      <th>3</th>\n",
       "      <td>0</td>\n",
       "      <td>male</td>\n",
       "      <td>22.705</td>\n",
       "      <td>N</td>\n",
       "      <td>0</td>\n",
       "      <td>no</td>\n",
       "      <td>northwest</td>\n",
       "      <td>21984.47061</td>\n",
       "    </tr>\n",
       "    <tr>\n",
       "      <th>4</th>\n",
       "      <td>32</td>\n",
       "      <td>male</td>\n",
       "      <td>28.880</td>\n",
       "      <td>PREO</td>\n",
       "      <td>0</td>\n",
       "      <td>no</td>\n",
       "      <td>northwest</td>\n",
       "      <td>3866.85520</td>\n",
       "    </tr>\n",
       "    <tr>\n",
       "      <th>...</th>\n",
       "      <td>...</td>\n",
       "      <td>...</td>\n",
       "      <td>...</td>\n",
       "      <td>...</td>\n",
       "      <td>...</td>\n",
       "      <td>...</td>\n",
       "      <td>...</td>\n",
       "      <td>...</td>\n",
       "    </tr>\n",
       "    <tr>\n",
       "      <th>1333</th>\n",
       "      <td>50</td>\n",
       "      <td>male</td>\n",
       "      <td>30.970</td>\n",
       "      <td>OB1</td>\n",
       "      <td>3</td>\n",
       "      <td>no</td>\n",
       "      <td>northwest</td>\n",
       "      <td>10600.54830</td>\n",
       "    </tr>\n",
       "    <tr>\n",
       "      <th>1334</th>\n",
       "      <td>18</td>\n",
       "      <td>female</td>\n",
       "      <td>31.920</td>\n",
       "      <td>OB1</td>\n",
       "      <td>0</td>\n",
       "      <td>no</td>\n",
       "      <td>northeast</td>\n",
       "      <td>2205.98080</td>\n",
       "    </tr>\n",
       "    <tr>\n",
       "      <th>1335</th>\n",
       "      <td>18</td>\n",
       "      <td>female</td>\n",
       "      <td>36.850</td>\n",
       "      <td>OB2</td>\n",
       "      <td>0</td>\n",
       "      <td>no</td>\n",
       "      <td>southeast</td>\n",
       "      <td>1629.83350</td>\n",
       "    </tr>\n",
       "    <tr>\n",
       "      <th>1336</th>\n",
       "      <td>21</td>\n",
       "      <td>female</td>\n",
       "      <td>25.800</td>\n",
       "      <td>PREO</td>\n",
       "      <td>0</td>\n",
       "      <td>no</td>\n",
       "      <td>southwest</td>\n",
       "      <td>2007.94500</td>\n",
       "    </tr>\n",
       "    <tr>\n",
       "      <th>1337</th>\n",
       "      <td>-1</td>\n",
       "      <td>female</td>\n",
       "      <td>29.070</td>\n",
       "      <td>PREO</td>\n",
       "      <td>0</td>\n",
       "      <td>yes</td>\n",
       "      <td>northwest</td>\n",
       "      <td>29141.36030</td>\n",
       "    </tr>\n",
       "  </tbody>\n",
       "</table>\n",
       "<p>1338 rows × 8 columns</p>\n",
       "</div>"
      ],
      "text/plain": [
       "      age     sex     bmi classif  children smoker     region      charges\n",
       "0      19  female  27.900    PREO         0    yes  southwest  16884.92400\n",
       "1      18    male  33.770     OB1         1     no  southeast   1725.55230\n",
       "2      28    male  33.000     OB1         3     no  southeast   4449.46200\n",
       "3       0    male  22.705       N         0     no  northwest  21984.47061\n",
       "4      32    male  28.880    PREO         0     no  northwest   3866.85520\n",
       "...   ...     ...     ...     ...       ...    ...        ...          ...\n",
       "1333   50    male  30.970     OB1         3     no  northwest  10600.54830\n",
       "1334   18  female  31.920     OB1         0     no  northeast   2205.98080\n",
       "1335   18  female  36.850     OB2         0     no  southeast   1629.83350\n",
       "1336   21  female  25.800    PREO         0     no  southwest   2007.94500\n",
       "1337   -1  female  29.070    PREO         0    yes  northwest  29141.36030\n",
       "\n",
       "[1338 rows x 8 columns]"
      ]
     },
     "execution_count": 2,
     "metadata": {},
     "output_type": "execute_result"
    }
   ],
   "source": [
    "df = pd.read_csv(\"DS3_C6_S1_Regression_Insurance_Data_Project.csv\")\n",
    "df"
   ]
  },
  {
   "cell_type": "markdown",
   "id": "45a0e291",
   "metadata": {},
   "source": [
    "# Data structure and summary "
   ]
  },
  {
   "cell_type": "code",
   "execution_count": 3,
   "id": "27dd46a4",
   "metadata": {},
   "outputs": [
    {
     "data": {
      "text/plain": [
       "(1338, 8)"
      ]
     },
     "execution_count": 3,
     "metadata": {},
     "output_type": "execute_result"
    }
   ],
   "source": [
    "df.shape"
   ]
  },
  {
   "cell_type": "code",
   "execution_count": 4,
   "id": "d6262363",
   "metadata": {},
   "outputs": [
    {
     "data": {
      "text/html": [
       "<div>\n",
       "<style scoped>\n",
       "    .dataframe tbody tr th:only-of-type {\n",
       "        vertical-align: middle;\n",
       "    }\n",
       "\n",
       "    .dataframe tbody tr th {\n",
       "        vertical-align: top;\n",
       "    }\n",
       "\n",
       "    .dataframe thead th {\n",
       "        text-align: right;\n",
       "    }\n",
       "</style>\n",
       "<table border=\"1\" class=\"dataframe\">\n",
       "  <thead>\n",
       "    <tr style=\"text-align: right;\">\n",
       "      <th></th>\n",
       "      <th>age</th>\n",
       "      <th>bmi</th>\n",
       "      <th>children</th>\n",
       "      <th>charges</th>\n",
       "    </tr>\n",
       "  </thead>\n",
       "  <tbody>\n",
       "    <tr>\n",
       "      <th>count</th>\n",
       "      <td>1338.000000</td>\n",
       "      <td>1338.000000</td>\n",
       "      <td>1338.000000</td>\n",
       "      <td>1338.000000</td>\n",
       "    </tr>\n",
       "    <tr>\n",
       "      <th>mean</th>\n",
       "      <td>39.133782</td>\n",
       "      <td>30.663397</td>\n",
       "      <td>1.094918</td>\n",
       "      <td>13270.422265</td>\n",
       "    </tr>\n",
       "    <tr>\n",
       "      <th>std</th>\n",
       "      <td>14.958658</td>\n",
       "      <td>6.098187</td>\n",
       "      <td>1.205493</td>\n",
       "      <td>12110.011237</td>\n",
       "    </tr>\n",
       "    <tr>\n",
       "      <th>min</th>\n",
       "      <td>-58.000000</td>\n",
       "      <td>15.960000</td>\n",
       "      <td>0.000000</td>\n",
       "      <td>1121.873900</td>\n",
       "    </tr>\n",
       "    <tr>\n",
       "      <th>25%</th>\n",
       "      <td>26.000000</td>\n",
       "      <td>26.296250</td>\n",
       "      <td>0.000000</td>\n",
       "      <td>4740.287150</td>\n",
       "    </tr>\n",
       "    <tr>\n",
       "      <th>50%</th>\n",
       "      <td>39.000000</td>\n",
       "      <td>30.400000</td>\n",
       "      <td>1.000000</td>\n",
       "      <td>9382.033000</td>\n",
       "    </tr>\n",
       "    <tr>\n",
       "      <th>75%</th>\n",
       "      <td>51.000000</td>\n",
       "      <td>34.693750</td>\n",
       "      <td>2.000000</td>\n",
       "      <td>16639.912515</td>\n",
       "    </tr>\n",
       "    <tr>\n",
       "      <th>max</th>\n",
       "      <td>190.000000</td>\n",
       "      <td>53.130000</td>\n",
       "      <td>5.000000</td>\n",
       "      <td>63770.428010</td>\n",
       "    </tr>\n",
       "  </tbody>\n",
       "</table>\n",
       "</div>"
      ],
      "text/plain": [
       "               age          bmi     children       charges\n",
       "count  1338.000000  1338.000000  1338.000000   1338.000000\n",
       "mean     39.133782    30.663397     1.094918  13270.422265\n",
       "std      14.958658     6.098187     1.205493  12110.011237\n",
       "min     -58.000000    15.960000     0.000000   1121.873900\n",
       "25%      26.000000    26.296250     0.000000   4740.287150\n",
       "50%      39.000000    30.400000     1.000000   9382.033000\n",
       "75%      51.000000    34.693750     2.000000  16639.912515\n",
       "max     190.000000    53.130000     5.000000  63770.428010"
      ]
     },
     "execution_count": 4,
     "metadata": {},
     "output_type": "execute_result"
    }
   ],
   "source": [
    "df.describe()"
   ]
  },
  {
   "cell_type": "code",
   "execution_count": 5,
   "id": "eccb47bb",
   "metadata": {},
   "outputs": [
    {
     "data": {
      "text/plain": [
       "age           int64\n",
       "sex          object\n",
       "bmi         float64\n",
       "classif      object\n",
       "children      int64\n",
       "smoker       object\n",
       "region       object\n",
       "charges     float64\n",
       "dtype: object"
      ]
     },
     "execution_count": 5,
     "metadata": {},
     "output_type": "execute_result"
    }
   ],
   "source": [
    "df.dtypes"
   ]
  },
  {
   "cell_type": "markdown",
   "id": "cf0f8c11",
   "metadata": {},
   "source": [
    "# ------------------------------------------------------------------------------------------------------------\n",
    "# Checking for Null values and/or Noise values and treating the values, if present"
   ]
  },
  {
   "cell_type": "code",
   "execution_count": 6,
   "id": "e3b51914",
   "metadata": {},
   "outputs": [
    {
     "data": {
      "text/plain": [
       "age         0\n",
       "sex         0\n",
       "bmi         0\n",
       "classif     8\n",
       "children    0\n",
       "smoker      0\n",
       "region      0\n",
       "charges     0\n",
       "dtype: int64"
      ]
     },
     "execution_count": 6,
     "metadata": {},
     "output_type": "execute_result"
    }
   ],
   "source": [
    "df.isnull().sum()"
   ]
  },
  {
   "cell_type": "code",
   "execution_count": 7,
   "id": "beae4c8b",
   "metadata": {},
   "outputs": [],
   "source": [
    "# Since column classif has null values, imputing the data with mode (since its object type)"
   ]
  },
  {
   "cell_type": "code",
   "execution_count": 8,
   "id": "ea75d338",
   "metadata": {
    "scrolled": true
   },
   "outputs": [
    {
     "data": {
      "text/plain": [
       "OB1     387\n",
       "PREO    383\n",
       "N       226\n",
       "OB2     224\n",
       "OB3      91\n",
       "UW       19\n",
       "Name: classif, dtype: int64"
      ]
     },
     "execution_count": 8,
     "metadata": {},
     "output_type": "execute_result"
    }
   ],
   "source": [
    "df.classif.value_counts()"
   ]
  },
  {
   "cell_type": "markdown",
   "id": "b34ad720",
   "metadata": {},
   "source": [
    "## Since the Classif is dependent on the bmi value, hence taking bmi into consideration for fill the null values "
   ]
  },
  {
   "cell_type": "code",
   "execution_count": 92,
   "id": "467abecb",
   "metadata": {},
   "outputs": [],
   "source": [
    "def fillnull(condition):\n",
    "    conditions = [\n",
    "        (df['bmi'] < 18.5),\n",
    "        (df['bmi'] >= 18.5) & (df['bmi'] <= 25),\n",
    "        (df['bmi'] > 25) & (df['bmi'] <= 30),\n",
    "        (df['bmi'] > 30) & (df['bmi'] <= 35),\n",
    "        (df['bmi'] > 35) & (df['bmi'] <= 40),\n",
    "        (df['bmi'] > 40)\n",
    "    ]\n",
    "\n",
    "    values = ['UW', 'N', 'PREO', 'OB1','OB2','OB3']\n",
    "\n",
    "    df['classif'] = np.select(conditions, values)"
   ]
  },
  {
   "cell_type": "code",
   "execution_count": 95,
   "id": "0cbe81d3",
   "metadata": {
    "collapsed": true
   },
   "outputs": [
    {
     "data": {
      "text/plain": [
       "0       PREO\n",
       "1        OB1\n",
       "2        OB1\n",
       "3          N\n",
       "4       PREO\n",
       "        ... \n",
       "1333     OB1\n",
       "1334     OB1\n",
       "1335     OB2\n",
       "1336    PREO\n",
       "1337    PREO\n",
       "Name: classif, Length: 1338, dtype: object"
      ]
     },
     "execution_count": 95,
     "metadata": {},
     "output_type": "execute_result"
    }
   ],
   "source": [
    "df.classif.fillna(fillnull)"
   ]
  },
  {
   "cell_type": "code",
   "execution_count": 96,
   "id": "8717c368",
   "metadata": {
    "scrolled": true
   },
   "outputs": [
    {
     "data": {
      "text/plain": [
       "age               0\n",
       "sex               0\n",
       "bmi               0\n",
       "classif           0\n",
       "children          0\n",
       "smoker            0\n",
       "region            0\n",
       "charges           0\n",
       "sex_encode        0\n",
       "classif_encode    0\n",
       "smoker_encode     0\n",
       "region_encode     0\n",
       "dtype: int64"
      ]
     },
     "execution_count": 96,
     "metadata": {},
     "output_type": "execute_result"
    }
   ],
   "source": [
    "df.isnull().sum()"
   ]
  },
  {
   "cell_type": "code",
   "execution_count": 97,
   "id": "7bb40b0e",
   "metadata": {},
   "outputs": [
    {
     "data": {
      "text/plain": [
       "OB1     389\n",
       "PREO    386\n",
       "N       227\n",
       "OB2     225\n",
       "OB3      91\n",
       "UW       20\n",
       "Name: classif, dtype: int64"
      ]
     },
     "execution_count": 97,
     "metadata": {},
     "output_type": "execute_result"
    }
   ],
   "source": [
    "df.classif.value_counts()"
   ]
  },
  {
   "cell_type": "markdown",
   "id": "dae3bc0b",
   "metadata": {},
   "source": [
    "## By this we can be positive that the values are true "
   ]
  },
  {
   "cell_type": "markdown",
   "id": "af24336b",
   "metadata": {},
   "source": [
    "## --------------------------------------------------------------------------------------------------------------\n",
    "## Checking for noise values "
   ]
  },
  {
   "cell_type": "code",
   "execution_count": 22,
   "id": "fe02d758",
   "metadata": {
    "scrolled": true
   },
   "outputs": [
    {
     "name": "stdout",
     "output_type": "stream",
     "text": [
      "18     71\n",
      "19     67\n",
      "48     29\n",
      "47     29\n",
      "20     29\n",
      "46     29\n",
      "45     29\n",
      "50     29\n",
      "51     29\n",
      "52     29\n",
      "24     28\n",
      "26     28\n",
      "22     28\n",
      "21     28\n",
      "27     28\n",
      "54     28\n",
      "53     28\n",
      "23     28\n",
      "25     28\n",
      "28     28\n",
      "49     28\n",
      "40     27\n",
      "43     27\n",
      "29     27\n",
      "44     27\n",
      "41     27\n",
      "42     27\n",
      "30     27\n",
      "31     27\n",
      "57     26\n",
      "34     26\n",
      "56     26\n",
      "32     26\n",
      "55     26\n",
      "39     25\n",
      "33     25\n",
      "38     25\n",
      "36     25\n",
      "35     25\n",
      "59     25\n",
      "37     25\n",
      "58     24\n",
      "63     23\n",
      "62     23\n",
      "60     23\n",
      "61     22\n",
      "64     22\n",
      "190     1\n",
      "1       1\n",
      "Name: age, dtype: int64\n",
      "=====================\n",
      "male      676\n",
      "female    662\n",
      "Name: sex, dtype: int64\n",
      "=====================\n",
      "32.300    13\n",
      "28.310     9\n",
      "30.495     8\n",
      "30.875     8\n",
      "31.350     8\n",
      "          ..\n",
      "46.200     1\n",
      "23.800     1\n",
      "44.770     1\n",
      "32.120     1\n",
      "30.970     1\n",
      "Name: bmi, Length: 548, dtype: int64\n",
      "=====================\n",
      "OB1     387\n",
      "PREO    383\n",
      "N       226\n",
      "OB2     224\n",
      "OB3      91\n",
      "UW       19\n",
      "Name: classif, dtype: int64\n",
      "=====================\n",
      "0    574\n",
      "1    324\n",
      "2    240\n",
      "3    157\n",
      "4     25\n",
      "5     18\n",
      "Name: children, dtype: int64\n",
      "=====================\n",
      "no     1064\n",
      "yes     274\n",
      "Name: smoker, dtype: int64\n",
      "=====================\n",
      "southeast    364\n",
      "northwest    325\n",
      "southwest    325\n",
      "northeast    324\n",
      "Name: region, dtype: int64\n",
      "=====================\n",
      "1639.56310     2\n",
      "16884.92400    1\n",
      "29330.98315    1\n",
      "2221.56445     1\n",
      "19798.05455    1\n",
      "              ..\n",
      "7345.08400     1\n",
      "26109.32905    1\n",
      "28287.89766    1\n",
      "1149.39590     1\n",
      "29141.36030    1\n",
      "Name: charges, Length: 1337, dtype: int64\n",
      "=====================\n",
      "1    676\n",
      "0    662\n",
      "Name: sex_encode, dtype: int64\n",
      "=====================\n",
      "1    387\n",
      "4    383\n",
      "0    226\n",
      "2    224\n",
      "3     91\n",
      "5     19\n",
      "6      8\n",
      "Name: classif_encode, dtype: int64\n",
      "=====================\n",
      "0    1064\n",
      "1     274\n",
      "Name: smoker_encode, dtype: int64\n",
      "=====================\n",
      "2    364\n",
      "3    325\n",
      "1    325\n",
      "0    324\n",
      "Name: region_encode, dtype: int64\n",
      "=====================\n"
     ]
    }
   ],
   "source": [
    "for cols in df.columns:\n",
    "    print(df[cols].value_counts())\n",
    "    print(\"=====================\")"
   ]
  },
  {
   "cell_type": "markdown",
   "id": "80ba7fc0",
   "metadata": {},
   "source": [
    "## There is 0 age, as it is not possible, replacing the value with mode of age\n",
    "## There are two negative age as well applying abs function to remove the negative sign"
   ]
  },
  {
   "cell_type": "code",
   "execution_count": 23,
   "id": "73e0a6ab",
   "metadata": {},
   "outputs": [],
   "source": [
    "df['age'] = df['age'].replace(to_replace = 0, value = (df['age'].mode()[0]))"
   ]
  },
  {
   "cell_type": "code",
   "execution_count": 24,
   "id": "9f52cf8e",
   "metadata": {
    "scrolled": true
   },
   "outputs": [
    {
     "data": {
      "text/plain": [
       "18     71\n",
       "19     67\n",
       "48     29\n",
       "47     29\n",
       "20     29\n",
       "46     29\n",
       "45     29\n",
       "50     29\n",
       "51     29\n",
       "52     29\n",
       "24     28\n",
       "26     28\n",
       "22     28\n",
       "21     28\n",
       "27     28\n",
       "54     28\n",
       "53     28\n",
       "23     28\n",
       "25     28\n",
       "28     28\n",
       "49     28\n",
       "40     27\n",
       "43     27\n",
       "29     27\n",
       "44     27\n",
       "41     27\n",
       "42     27\n",
       "30     27\n",
       "31     27\n",
       "57     26\n",
       "34     26\n",
       "56     26\n",
       "32     26\n",
       "55     26\n",
       "39     25\n",
       "33     25\n",
       "38     25\n",
       "36     25\n",
       "35     25\n",
       "59     25\n",
       "37     25\n",
       "58     24\n",
       "63     23\n",
       "62     23\n",
       "60     23\n",
       "61     22\n",
       "64     22\n",
       "190     1\n",
       "1       1\n",
       "Name: age, dtype: int64"
      ]
     },
     "execution_count": 24,
     "metadata": {},
     "output_type": "execute_result"
    }
   ],
   "source": [
    "df['age'] = df['age'].abs()\n",
    "df['age'].value_counts()"
   ]
  },
  {
   "cell_type": "markdown",
   "id": "8a1e7aa7",
   "metadata": {},
   "source": [
    "## There no longer exists no noise and null values in the dataset "
   ]
  },
  {
   "cell_type": "markdown",
   "id": "c9bcf490",
   "metadata": {},
   "source": [
    "# --------------------------------------------------------------------------------------------------------------\n",
    "# Feature engineering "
   ]
  },
  {
   "cell_type": "code",
   "execution_count": 25,
   "id": "870eb5c5",
   "metadata": {},
   "outputs": [
    {
     "data": {
      "text/plain": [
       "age                  int64\n",
       "sex               category\n",
       "bmi                float64\n",
       "classif           category\n",
       "children             int64\n",
       "smoker            category\n",
       "region            category\n",
       "charges            float64\n",
       "sex_encode           int32\n",
       "classif_encode       int32\n",
       "smoker_encode        int32\n",
       "region_encode        int32\n",
       "dtype: object"
      ]
     },
     "execution_count": 25,
     "metadata": {},
     "output_type": "execute_result"
    }
   ],
   "source": [
    "cat_df = df.select_dtypes(exclude = [np.number])\n",
    "\n",
    "for i in cat_df.columns:\n",
    "    df[i] = df[i].astype('category')\n",
    "\n",
    "df.dtypes"
   ]
  },
  {
   "cell_type": "markdown",
   "id": "ac010306",
   "metadata": {},
   "source": [
    "# --------------------------------------------------------------------------------------------------------------\n",
    "# Label Encoding "
   ]
  },
  {
   "cell_type": "code",
   "execution_count": 26,
   "id": "ec439d81",
   "metadata": {},
   "outputs": [
    {
     "data": {
      "text/plain": [
       "age                  int64\n",
       "sex               category\n",
       "bmi                float64\n",
       "classif           category\n",
       "children             int64\n",
       "smoker            category\n",
       "region            category\n",
       "charges            float64\n",
       "sex_encode           int32\n",
       "classif_encode       int32\n",
       "smoker_encode        int32\n",
       "region_encode        int32\n",
       "dtype: object"
      ]
     },
     "execution_count": 26,
     "metadata": {},
     "output_type": "execute_result"
    }
   ],
   "source": [
    "for i in cat_df.columns:\n",
    "    df[i+'_encode'] = LabelEncoder().fit_transform(df[i])\n",
    "    \n",
    "df.dtypes"
   ]
  },
  {
   "cell_type": "markdown",
   "id": "473c559c",
   "metadata": {},
   "source": [
    "# --------------------------------------------------------------------------------------------------------------\n",
    "# Data Scaling "
   ]
  },
  {
   "cell_type": "code",
   "execution_count": 27,
   "id": "e4b332fc",
   "metadata": {
    "scrolled": false
   },
   "outputs": [
    {
     "data": {
      "text/html": [
       "<div>\n",
       "<style scoped>\n",
       "    .dataframe tbody tr th:only-of-type {\n",
       "        vertical-align: middle;\n",
       "    }\n",
       "\n",
       "    .dataframe tbody tr th {\n",
       "        vertical-align: top;\n",
       "    }\n",
       "\n",
       "    .dataframe thead th {\n",
       "        text-align: right;\n",
       "    }\n",
       "</style>\n",
       "<table border=\"1\" class=\"dataframe\">\n",
       "  <thead>\n",
       "    <tr style=\"text-align: right;\">\n",
       "      <th></th>\n",
       "      <th>age</th>\n",
       "      <th>bmi</th>\n",
       "      <th>children</th>\n",
       "      <th>charges</th>\n",
       "      <th>sex_encode</th>\n",
       "      <th>classif_encode</th>\n",
       "      <th>smoker_encode</th>\n",
       "      <th>region_encode</th>\n",
       "    </tr>\n",
       "  </thead>\n",
       "  <tbody>\n",
       "    <tr>\n",
       "      <th>0</th>\n",
       "      <td>0.095238</td>\n",
       "      <td>0.321227</td>\n",
       "      <td>0.0</td>\n",
       "      <td>0.251611</td>\n",
       "      <td>0.0</td>\n",
       "      <td>0.666667</td>\n",
       "      <td>1.0</td>\n",
       "      <td>1.000000</td>\n",
       "    </tr>\n",
       "    <tr>\n",
       "      <th>1</th>\n",
       "      <td>0.089947</td>\n",
       "      <td>0.479150</td>\n",
       "      <td>0.2</td>\n",
       "      <td>0.009636</td>\n",
       "      <td>1.0</td>\n",
       "      <td>0.166667</td>\n",
       "      <td>0.0</td>\n",
       "      <td>0.666667</td>\n",
       "    </tr>\n",
       "    <tr>\n",
       "      <th>2</th>\n",
       "      <td>0.142857</td>\n",
       "      <td>0.458434</td>\n",
       "      <td>0.6</td>\n",
       "      <td>0.053115</td>\n",
       "      <td>1.0</td>\n",
       "      <td>0.166667</td>\n",
       "      <td>0.0</td>\n",
       "      <td>0.666667</td>\n",
       "    </tr>\n",
       "    <tr>\n",
       "      <th>3</th>\n",
       "      <td>0.089947</td>\n",
       "      <td>0.181464</td>\n",
       "      <td>0.0</td>\n",
       "      <td>0.333010</td>\n",
       "      <td>1.0</td>\n",
       "      <td>0.000000</td>\n",
       "      <td>0.0</td>\n",
       "      <td>0.333333</td>\n",
       "    </tr>\n",
       "    <tr>\n",
       "      <th>4</th>\n",
       "      <td>0.164021</td>\n",
       "      <td>0.347592</td>\n",
       "      <td>0.0</td>\n",
       "      <td>0.043816</td>\n",
       "      <td>1.0</td>\n",
       "      <td>0.666667</td>\n",
       "      <td>0.0</td>\n",
       "      <td>0.333333</td>\n",
       "    </tr>\n",
       "  </tbody>\n",
       "</table>\n",
       "</div>"
      ],
      "text/plain": [
       "        age       bmi  children   charges  sex_encode  classif_encode  \\\n",
       "0  0.095238  0.321227       0.0  0.251611         0.0        0.666667   \n",
       "1  0.089947  0.479150       0.2  0.009636         1.0        0.166667   \n",
       "2  0.142857  0.458434       0.6  0.053115         1.0        0.166667   \n",
       "3  0.089947  0.181464       0.0  0.333010         1.0        0.000000   \n",
       "4  0.164021  0.347592       0.0  0.043816         1.0        0.666667   \n",
       "\n",
       "   smoker_encode  region_encode  \n",
       "0            1.0       1.000000  \n",
       "1            0.0       0.666667  \n",
       "2            0.0       0.666667  \n",
       "3            0.0       0.333333  \n",
       "4            0.0       0.333333  "
      ]
     },
     "execution_count": 27,
     "metadata": {},
     "output_type": "execute_result"
    }
   ],
   "source": [
    "num_df = df.select_dtypes(include = [np.number])\n",
    "\n",
    "scaled_df = pd.DataFrame(MinMaxScaler().fit_transform(num_df), columns = num_df.columns)\n",
    "scaled_df.head()"
   ]
  },
  {
   "cell_type": "code",
   "execution_count": 28,
   "id": "981915e7",
   "metadata": {
    "scrolled": true
   },
   "outputs": [
    {
     "data": {
      "text/html": [
       "<div>\n",
       "<style scoped>\n",
       "    .dataframe tbody tr th:only-of-type {\n",
       "        vertical-align: middle;\n",
       "    }\n",
       "\n",
       "    .dataframe tbody tr th {\n",
       "        vertical-align: top;\n",
       "    }\n",
       "\n",
       "    .dataframe thead th {\n",
       "        text-align: right;\n",
       "    }\n",
       "</style>\n",
       "<table border=\"1\" class=\"dataframe\">\n",
       "  <thead>\n",
       "    <tr style=\"text-align: right;\">\n",
       "      <th></th>\n",
       "      <th>age</th>\n",
       "      <th>sex</th>\n",
       "      <th>bmi</th>\n",
       "      <th>classif</th>\n",
       "      <th>children</th>\n",
       "      <th>smoker</th>\n",
       "      <th>region</th>\n",
       "      <th>charges</th>\n",
       "      <th>sex_encode</th>\n",
       "      <th>classif_encode</th>\n",
       "      <th>smoker_encode</th>\n",
       "      <th>region_encode</th>\n",
       "      <th>charges_label</th>\n",
       "    </tr>\n",
       "  </thead>\n",
       "  <tbody>\n",
       "    <tr>\n",
       "      <th>0</th>\n",
       "      <td>19</td>\n",
       "      <td>female</td>\n",
       "      <td>27.900</td>\n",
       "      <td>PREO</td>\n",
       "      <td>0</td>\n",
       "      <td>yes</td>\n",
       "      <td>southwest</td>\n",
       "      <td>16884.92400</td>\n",
       "      <td>0</td>\n",
       "      <td>4</td>\n",
       "      <td>1</td>\n",
       "      <td>3</td>\n",
       "      <td>medium</td>\n",
       "    </tr>\n",
       "    <tr>\n",
       "      <th>1</th>\n",
       "      <td>18</td>\n",
       "      <td>male</td>\n",
       "      <td>33.770</td>\n",
       "      <td>OB1</td>\n",
       "      <td>1</td>\n",
       "      <td>no</td>\n",
       "      <td>southeast</td>\n",
       "      <td>1725.55230</td>\n",
       "      <td>1</td>\n",
       "      <td>1</td>\n",
       "      <td>0</td>\n",
       "      <td>2</td>\n",
       "      <td>low</td>\n",
       "    </tr>\n",
       "    <tr>\n",
       "      <th>2</th>\n",
       "      <td>28</td>\n",
       "      <td>male</td>\n",
       "      <td>33.000</td>\n",
       "      <td>OB1</td>\n",
       "      <td>3</td>\n",
       "      <td>no</td>\n",
       "      <td>southeast</td>\n",
       "      <td>4449.46200</td>\n",
       "      <td>1</td>\n",
       "      <td>1</td>\n",
       "      <td>0</td>\n",
       "      <td>2</td>\n",
       "      <td>low</td>\n",
       "    </tr>\n",
       "    <tr>\n",
       "      <th>3</th>\n",
       "      <td>18</td>\n",
       "      <td>male</td>\n",
       "      <td>22.705</td>\n",
       "      <td>N</td>\n",
       "      <td>0</td>\n",
       "      <td>no</td>\n",
       "      <td>northwest</td>\n",
       "      <td>21984.47061</td>\n",
       "      <td>1</td>\n",
       "      <td>0</td>\n",
       "      <td>0</td>\n",
       "      <td>1</td>\n",
       "      <td>high</td>\n",
       "    </tr>\n",
       "    <tr>\n",
       "      <th>4</th>\n",
       "      <td>32</td>\n",
       "      <td>male</td>\n",
       "      <td>28.880</td>\n",
       "      <td>PREO</td>\n",
       "      <td>0</td>\n",
       "      <td>no</td>\n",
       "      <td>northwest</td>\n",
       "      <td>3866.85520</td>\n",
       "      <td>1</td>\n",
       "      <td>4</td>\n",
       "      <td>0</td>\n",
       "      <td>1</td>\n",
       "      <td>low</td>\n",
       "    </tr>\n",
       "  </tbody>\n",
       "</table>\n",
       "</div>"
      ],
      "text/plain": [
       "   age     sex     bmi classif  children smoker     region      charges  \\\n",
       "0   19  female  27.900    PREO         0    yes  southwest  16884.92400   \n",
       "1   18    male  33.770     OB1         1     no  southeast   1725.55230   \n",
       "2   28    male  33.000     OB1         3     no  southeast   4449.46200   \n",
       "3   18    male  22.705       N         0     no  northwest  21984.47061   \n",
       "4   32    male  28.880    PREO         0     no  northwest   3866.85520   \n",
       "\n",
       "   sex_encode  classif_encode  smoker_encode  region_encode charges_label  \n",
       "0           0               4              1              3        medium  \n",
       "1           1               1              0              2           low  \n",
       "2           1               1              0              2           low  \n",
       "3           1               0              0              1          high  \n",
       "4           1               4              0              1           low  "
      ]
     },
     "execution_count": 28,
     "metadata": {},
     "output_type": "execute_result"
    }
   ],
   "source": [
    "df2 = df.copy()\n",
    "df2['charges_label'] = pd.cut(x = df2['charges'], bins=[0, 10000, 20000, 40000,70000],\n",
    "                     labels=['low', 'medium', 'high','very high'])\n",
    "\n",
    "df2.head()"
   ]
  },
  {
   "cell_type": "markdown",
   "id": "e31a1278",
   "metadata": {},
   "source": [
    "# --------------------------------------------------------------------------------------------------------\n",
    "# Exploratory Data Analysis"
   ]
  },
  {
   "cell_type": "code",
   "execution_count": 29,
   "id": "390fadf4",
   "metadata": {
    "scrolled": true
   },
   "outputs": [
    {
     "data": {
      "image/png": "[encoded data removed]",
      "text/plain": [
       "<Figure size 1080x360 with 2 Axes>"
      ]
     },
     "metadata": {
      "needs_background": "light"
     },
     "output_type": "display_data"
    }
   ],
   "source": [
    "plt.figure(figsize=(15,5))\n",
    "plt.subplot(121)\n",
    "sb.countplot(data = df2, x = df2['charges_label'], palette = 'Pastel1')\n",
    "\n",
    "plt.subplot(122)\n",
    "colors = ['#ff9999','#66b3ff','#99ff99','#ffcc99']\n",
    "explode = (0.05,0.05,0.05,0.05)\n",
    "perc = df2['charges_label'].value_counts()  # total count of values \n",
    "n =  df2['charges_label'].unique()          # unique values \n",
    "plt.pie(perc, labels = n, autopct='%.2f%%', explode = explode, colors = colors)\n",
    "\n",
    "plt.show()"
   ]
  },
  {
   "cell_type": "markdown",
   "id": "00e33043",
   "metadata": {},
   "source": [
    "### Low charges are paid by more number of policy owners than the other categories."
   ]
  },
  {
   "cell_type": "code",
   "execution_count": 30,
   "id": "981706ee",
   "metadata": {},
   "outputs": [
    {
     "data": {
      "image/png": "[encoded data removed]",
      "text/plain": [
       "<Figure size 720x360 with 2 Axes>"
      ]
     },
     "metadata": {
      "needs_background": "light"
     },
     "output_type": "display_data"
    }
   ],
   "source": [
    "plt.figure(figsize=(10,5))\n",
    "\n",
    "plt.subplot(121)\n",
    "plt.title(\"Smokers\")\n",
    "sb.countplot(data = df, x = df['smoker'], palette = 'Pastel1')\n",
    "\n",
    "\n",
    "plt.subplot(122)\n",
    "colors = ['#ff9999','#66b3ff']\n",
    "explode = (0.05,0.05)\n",
    "perc = df['smoker'].value_counts()  # total count of values \n",
    "n =  df['smoker'].unique()          # unique values \n",
    "plt.pie(perc, labels = n, autopct='%.2f%%', explode = explode, colors = colors)\n",
    "plt.tight_layout()\n",
    "plt.show()"
   ]
  },
  {
   "cell_type": "markdown",
   "id": "670a4da6",
   "metadata": {},
   "source": [
    "## Non smokers(1200) are more than smokers(approx 250)"
   ]
  },
  {
   "cell_type": "code",
   "execution_count": 31,
   "id": "b81f83a5",
   "metadata": {
    "scrolled": true
   },
   "outputs": [
    {
     "data": {
      "image/png": "[encoded data removed]",
      "text/plain": [
       "<Figure size 720x360 with 1 Axes>"
      ]
     },
     "metadata": {
      "needs_background": "light"
     },
     "output_type": "display_data"
    }
   ],
   "source": [
    "plt.figure(figsize=(10,5))\n",
    "sb.countplot(data = df, x = df['smoker'], hue=df['region'], palette = 'Pastel1')\n",
    "plt.show()"
   ]
  },
  {
   "cell_type": "markdown",
   "id": "957874d6",
   "metadata": {},
   "source": [
    "### Max people who smoke are from the southeast \n",
    "### Max people who do not smoke are also from southeast\n",
    "### Region with least smoker is southwest and northwest\n",
    "### northeast has lowest number of non smokers \n",
    "## hence there is no correlation between the regions and smoker"
   ]
  },
  {
   "cell_type": "code",
   "execution_count": 32,
   "id": "8bf9e2da",
   "metadata": {},
   "outputs": [
    {
     "data": {
      "image/png": "[encoded data removed]",
      "text/plain": [
       "<Figure size 720x360 with 1 Axes>"
      ]
     },
     "metadata": {
      "needs_background": "light"
     },
     "output_type": "display_data"
    }
   ],
   "source": [
    "plt.figure(figsize=(10,5))\n",
    "sb.countplot( data = df, x = df['smoker'], hue=df['sex'], palette = 'Pastel2',ec = 'black')\n",
    "plt.show()"
   ]
  },
  {
   "cell_type": "markdown",
   "id": "36ccc812",
   "metadata": {},
   "source": [
    "### There are more number of male smokers than females\n",
    "### There are more number of female non smokers than male"
   ]
  },
  {
   "cell_type": "code",
   "execution_count": 33,
   "id": "3e773c67",
   "metadata": {
    "scrolled": false
   },
   "outputs": [
    {
     "data": {
      "image/png": "[encoded data removed]",
      "text/plain": [
       "<Figure size 1080x504 with 2 Axes>"
      ]
     },
     "metadata": {
      "needs_background": "light"
     },
     "output_type": "display_data"
    }
   ],
   "source": [
    "plt.figure(figsize=(15,7))\n",
    "\n",
    "plt.subplot(121)\n",
    "plt.title(\"Charges and Smoker relation\")\n",
    "sb.boxplot(data=df,x= 'smoker', y='charges', palette = 'Pastel2', showmeans = True)\n",
    "\n",
    "plt.subplot(122)\n",
    "plt.title(\"Charges and Smoker relation\")\n",
    "sb.countplot( data = df2, x = df2['smoker'], hue=df2['charges_label'], palette = 'Pastel2',ec = 'black')\n",
    "plt.show()\n"
   ]
  },
  {
   "cell_type": "markdown",
   "id": "841e6eed",
   "metadata": {},
   "source": [
    "### The average charges paid by smokers is nearly 35000 where as the average charges paid by the non smokers is 7000-8000\n",
    "### most people who do not smoke pay low charges ie. less than 10000  (700 people)\n",
    "### most people who smoke pay high charges ie. between 20000 and 40000 (150 people)\n",
    "### There is no smoker who pays low charges \n",
    "### There is no non smoker who pays very high charges"
   ]
  },
  {
   "cell_type": "code",
   "execution_count": 34,
   "id": "890461af",
   "metadata": {},
   "outputs": [
    {
     "data": {
      "image/png": "[encoded data removed]",
      "text/plain": [
       "<Figure size 1440x360 with 1 Axes>"
      ]
     },
     "metadata": {
      "needs_background": "light"
     },
     "output_type": "display_data"
    }
   ],
   "source": [
    "plt.figure(figsize=(20,5))\n",
    "sb.histplot( data = df, x = df['age'], hue=df['smoker'], palette = 'rocket', bins = 20)\n",
    "plt.show()"
   ]
  },
  {
   "cell_type": "markdown",
   "id": "89899329",
   "metadata": {},
   "source": [
    "### Maximum number of smokers are in the age group 30-40 \n",
    "### There is an outlier of age =1 and age = 190"
   ]
  },
  {
   "cell_type": "code",
   "execution_count": 35,
   "id": "06535238",
   "metadata": {
    "scrolled": true
   },
   "outputs": [
    {
     "data": {
      "image/png": "[encoded data removed]",
      "text/plain": [
       "<Figure size 720x360 with 1 Axes>"
      ]
     },
     "metadata": {
      "needs_background": "light"
     },
     "output_type": "display_data"
    }
   ],
   "source": [
    "plt.figure(figsize=(10,5))\n",
    "sb.countplot( data = df, x = df['smoker'], hue=df['children'], palette = 'Pastel2',ec = 'black')\n",
    "plt.yscale('log')\n",
    "plt.show()\n"
   ]
  },
  {
   "cell_type": "markdown",
   "id": "b1790a76",
   "metadata": {},
   "source": [
    "### most non smoker have 0 children anf very few have 5 children \n",
    "### most smokers have 0 kids.\n",
    "### comparitively more non smoker have 4 / 5  kids than the smoker  "
   ]
  },
  {
   "cell_type": "code",
   "execution_count": 36,
   "id": "97ddf819",
   "metadata": {},
   "outputs": [
    {
     "data": {
      "image/png": "[encoded data removed]",
      "text/plain": [
       "<Figure size 720x360 with 1 Axes>"
      ]
     },
     "metadata": {
      "needs_background": "light"
     },
     "output_type": "display_data"
    }
   ],
   "source": [
    "plt.figure(figsize=(10,5))\n",
    "sb.countplot( data = df2, x = df2['charges_label'], hue=df2['children'], palette = 'Pastel2',ec = 'black')\n",
    "plt.yscale('log')\n",
    "plt.show()\n"
   ]
  },
  {
   "cell_type": "code",
   "execution_count": 37,
   "id": "072b0fee",
   "metadata": {},
   "outputs": [
    {
     "data": {
      "image/png": "[encoded data removed]",
      "text/plain": [
       "<Figure size 1080x504 with 2 Axes>"
      ]
     },
     "metadata": {
      "needs_background": "light"
     },
     "output_type": "display_data"
    }
   ],
   "source": [
    "plt.figure(figsize=(15,7))\n",
    "\n",
    "plt.subplot(121)\n",
    "plt.title(\"BMI and gender relation\")\n",
    "sb.boxplot(data=df, x= 'sex', y='bmi', palette = 'Pastel2', showmeans = True)\n",
    "\n",
    "plt.subplot(122)\n",
    "plt.title(\"BMI and gender relation\")\n",
    "sb.countplot( data = df, x = df['sex'], hue=df['classif'], palette = 'Pastel2', ec = 'black')\n",
    "\n",
    "plt.show()"
   ]
  },
  {
   "cell_type": "markdown",
   "id": "beddb55e",
   "metadata": {},
   "source": [
    "### The median and average bmi for both males and females have is equal with few outliers for both.\n",
    "### In females there are more number of Pre-Obese and less number of under weight where as in males there are more number of obese type 1 and less number of underweight"
   ]
  },
  {
   "cell_type": "code",
   "execution_count": 38,
   "id": "58bd3a2e",
   "metadata": {},
   "outputs": [
    {
     "data": {
      "image/png": "[encoded data removed]",
      "text/plain": [
       "<Figure size 1080x504 with 2 Axes>"
      ]
     },
     "metadata": {
      "needs_background": "light"
     },
     "output_type": "display_data"
    }
   ],
   "source": [
    "plt.figure(figsize=(15,7))\n",
    "\n",
    "plt.subplot(121)\n",
    "plt.title(\"Charges distributed among gender\")\n",
    "sb.boxplot(data=df ,x= 'sex', y='charges', palette = 'Pastel1', showmeans = True)\n",
    "\n",
    "plt.subplot(122)\n",
    "plt.title(\"Charges distributed among gender\")\n",
    "sb.countplot( data = df2, x = df2['sex'], hue = df2['charges_label'], palette = 'Pastel1', ec='black')\n",
    "plt.show()\n"
   ]
  },
  {
   "cell_type": "code",
   "execution_count": 39,
   "id": "8c9eb510",
   "metadata": {},
   "outputs": [
    {
     "data": {
      "image/png": "[encoded data removed]",
      "text/plain": [
       "<Figure size 720x360 with 1 Axes>"
      ]
     },
     "metadata": {
      "needs_background": "light"
     },
     "output_type": "display_data"
    }
   ],
   "source": [
    "plt.figure(figsize=(10,5))\n",
    "plt.title(\"Charges and region relation\")\n",
    "sb.countplot(data = df2, x = df2['charges_label'], hue=df2['region'], palette = 'Pastel1', ec = 'black')\n",
    "plt.show()"
   ]
  },
  {
   "cell_type": "markdown",
   "id": "38f6fb55",
   "metadata": {},
   "source": [
    "### There is no relationship between these two features "
   ]
  },
  {
   "cell_type": "markdown",
   "id": "250f3ad2",
   "metadata": {},
   "source": [
    "# --------------------------------------------------------------------------------------------------------------\n",
    "# Finding correlation of target feature with independent features "
   ]
  },
  {
   "cell_type": "code",
   "execution_count": 40,
   "id": "4e6c3eb9",
   "metadata": {},
   "outputs": [
    {
     "data": {
      "image/png": "[encoded data removed]",
      "text/plain": [
       "<Figure size 1080x576 with 2 Axes>"
      ]
     },
     "metadata": {
      "needs_background": "light"
     },
     "output_type": "display_data"
    }
   ],
   "source": [
    "corr_values = scaled_df.corr()\n",
    "\n",
    "plt.figure(figsize=(15,8))\n",
    "sb.heatmap(corr_values, annot=True, cbar= True )\n",
    "plt.show()"
   ]
  },
  {
   "cell_type": "markdown",
   "id": "7c82dbe1",
   "metadata": {},
   "source": [
    "# Comparing the correlation values of the independent features with the dependent features :\n",
    "## smoker_encode(0.79) > age(0.27) > bmi(0.2) > classif_encode(-0.042) > sex_encode(0.057) >  children (0.068)\n",
    "\n",
    "# Univariate Linear Regression model \n",
    "## 'smoker' has the highest correlation value of 0.79 hence considering this feature for univariate model\n",
    "\n",
    "# Bivariate Linear Regression model \n",
    "## 'smoker' and 'age' has the highest correlation value of 0.79 and 0.27 respectively hence considering these feature for bivariate model\n",
    "\n",
    "# Multivariate Linear Regression Model \n",
    "## Taking all the features except for the 'region' as it is highly non correlated "
   ]
  },
  {
   "cell_type": "markdown",
   "id": "11a4274b",
   "metadata": {},
   "source": [
    "# --------------------------------------------------------------------------------------------------------------\n",
    "# Train-Test-Split data"
   ]
  },
  {
   "cell_type": "code",
   "execution_count": 41,
   "id": "e008b8b1",
   "metadata": {},
   "outputs": [
    {
     "data": {
      "text/plain": [
       "0    1.0\n",
       "1    0.0\n",
       "2    0.0\n",
       "3    0.0\n",
       "4    0.0\n",
       "Name: smoker_encode, dtype: float64"
      ]
     },
     "execution_count": 41,
     "metadata": {},
     "output_type": "execute_result"
    }
   ],
   "source": [
    "x1 = scaled_df['smoker_encode']\n",
    "x1.head()"
   ]
  },
  {
   "cell_type": "code",
   "execution_count": 42,
   "id": "0b459b0e",
   "metadata": {},
   "outputs": [
    {
     "data": {
      "text/plain": [
       "0    0.251611\n",
       "1    0.009636\n",
       "2    0.053115\n",
       "3    0.333010\n",
       "4    0.043816\n",
       "Name: charges, dtype: float64"
      ]
     },
     "execution_count": 42,
     "metadata": {},
     "output_type": "execute_result"
    }
   ],
   "source": [
    "y1 = scaled_df['charges']\n",
    "y1.head()"
   ]
  },
  {
   "cell_type": "code",
   "execution_count": 43,
   "id": "625b7e61",
   "metadata": {},
   "outputs": [
    {
     "data": {
      "text/plain": [
       "((1070,), (268,), (1070,), (268,))"
      ]
     },
     "execution_count": 43,
     "metadata": {},
     "output_type": "execute_result"
    }
   ],
   "source": [
    "x1_train, x1_test, y1_train, y1_test = train_test_split(x1, y1, test_size = 0.2, random_state = 10)\n",
    "x1_train.shape, x1_test.shape, y1_train.shape, y1_test.shape"
   ]
  },
  {
   "cell_type": "code",
   "execution_count": 44,
   "id": "c61481b8",
   "metadata": {},
   "outputs": [
    {
     "data": {
      "text/plain": [
       "(1070, 1)"
      ]
     },
     "execution_count": 44,
     "metadata": {},
     "output_type": "execute_result"
    }
   ],
   "source": [
    "x1_train = x1_train.values.reshape(-1,1)\n",
    "x1_train.shape"
   ]
  },
  {
   "cell_type": "code",
   "execution_count": 45,
   "id": "ba4f54f2",
   "metadata": {},
   "outputs": [
    {
     "data": {
      "text/plain": [
       "(1070, 1)"
      ]
     },
     "execution_count": 45,
     "metadata": {},
     "output_type": "execute_result"
    }
   ],
   "source": [
    "y1_train = y1_train.values.reshape(-1,1)\n",
    "y1_train.shape"
   ]
  },
  {
   "cell_type": "code",
   "execution_count": 46,
   "id": "3982f0e6",
   "metadata": {},
   "outputs": [
    {
     "data": {
      "text/plain": [
       "(268, 1)"
      ]
     },
     "execution_count": 46,
     "metadata": {},
     "output_type": "execute_result"
    }
   ],
   "source": [
    "x1_test = x1_test.values.reshape(-1,1)\n",
    "x1_test.shape"
   ]
  },
  {
   "cell_type": "code",
   "execution_count": 47,
   "id": "a7e4ed0f",
   "metadata": {},
   "outputs": [
    {
     "data": {
      "text/plain": [
       "(268, 1)"
      ]
     },
     "execution_count": 47,
     "metadata": {},
     "output_type": "execute_result"
    }
   ],
   "source": [
    "y1_test = y1_test.values.reshape(-1,1)\n",
    "y1_test.shape"
   ]
  },
  {
   "cell_type": "markdown",
   "id": "4bb2cc2a",
   "metadata": {},
   "source": [
    "# --------------------------------------------------------------------------------------------------------------\n",
    "# Linear Regression Model - Univariate"
   ]
  },
  {
   "cell_type": "code",
   "execution_count": 48,
   "id": "aaa1359d",
   "metadata": {},
   "outputs": [],
   "source": [
    "uni_lrm = LinearRegression().fit(x1_train, y1_train)"
   ]
  },
  {
   "cell_type": "code",
   "execution_count": 49,
   "id": "36c4e488",
   "metadata": {},
   "outputs": [
    {
     "name": "stdout",
     "output_type": "stream",
     "text": [
      "R square - Coefficient of Determinant = 62.28 % \n"
     ]
    }
   ],
   "source": [
    "# Calculating the R sq Value \n",
    "\n",
    "coef_deter1 = round((uni_lrm.score(x1_train, y1_train))*100,2)\n",
    "print(\"R square - Coefficient of Determinant = {} % \".format(coef_deter1))"
   ]
  },
  {
   "cell_type": "code",
   "execution_count": 50,
   "id": "290ace1e",
   "metadata": {},
   "outputs": [
    {
     "name": "stdout",
     "output_type": "stream",
     "text": [
      "Intercept of line =  [0.11546876]\n",
      "Linear Regression Coefficient =  [[0.38125756]]\n"
     ]
    }
   ],
   "source": [
    "intercept1 = uni_lrm.intercept_\n",
    "coef1 = uni_lrm.coef_\n",
    "\n",
    "print(\"Intercept of line = \",intercept1)\n",
    "print(\"Linear Regression Coefficient = \",coef1)"
   ]
  },
  {
   "cell_type": "markdown",
   "id": "d4293403",
   "metadata": {},
   "source": [
    "## Conclusion: Since the R2 value is more than 50% this model can be used to predict the y values  "
   ]
  },
  {
   "cell_type": "code",
   "execution_count": 51,
   "id": "3f470d34",
   "metadata": {},
   "outputs": [],
   "source": [
    "y_predict1 = uni_lrm.predict(x1_test)"
   ]
  },
  {
   "cell_type": "code",
   "execution_count": 52,
   "id": "9e51d46c",
   "metadata": {},
   "outputs": [
    {
     "data": {
      "text/html": [
       "<div>\n",
       "<style scoped>\n",
       "    .dataframe tbody tr th:only-of-type {\n",
       "        vertical-align: middle;\n",
       "    }\n",
       "\n",
       "    .dataframe tbody tr th {\n",
       "        vertical-align: top;\n",
       "    }\n",
       "\n",
       "    .dataframe thead th {\n",
       "        text-align: right;\n",
       "    }\n",
       "</style>\n",
       "<table border=\"1\" class=\"dataframe\">\n",
       "  <thead>\n",
       "    <tr style=\"text-align: right;\">\n",
       "      <th></th>\n",
       "      <th>Y Predicted</th>\n",
       "      <th>Y Actual</th>\n",
       "      <th>error</th>\n",
       "    </tr>\n",
       "  </thead>\n",
       "  <tbody>\n",
       "    <tr>\n",
       "      <th>0</th>\n",
       "      <td>0.12</td>\n",
       "      <td>0.10</td>\n",
       "      <td>0.02</td>\n",
       "    </tr>\n",
       "    <tr>\n",
       "      <th>1</th>\n",
       "      <td>0.12</td>\n",
       "      <td>0.07</td>\n",
       "      <td>0.05</td>\n",
       "    </tr>\n",
       "    <tr>\n",
       "      <th>2</th>\n",
       "      <td>0.12</td>\n",
       "      <td>0.18</td>\n",
       "      <td>-0.06</td>\n",
       "    </tr>\n",
       "    <tr>\n",
       "      <th>3</th>\n",
       "      <td>0.12</td>\n",
       "      <td>0.37</td>\n",
       "      <td>-0.26</td>\n",
       "    </tr>\n",
       "    <tr>\n",
       "      <th>4</th>\n",
       "      <td>0.12</td>\n",
       "      <td>0.04</td>\n",
       "      <td>0.07</td>\n",
       "    </tr>\n",
       "    <tr>\n",
       "      <th>...</th>\n",
       "      <td>...</td>\n",
       "      <td>...</td>\n",
       "      <td>...</td>\n",
       "    </tr>\n",
       "    <tr>\n",
       "      <th>263</th>\n",
       "      <td>0.50</td>\n",
       "      <td>0.67</td>\n",
       "      <td>-0.17</td>\n",
       "    </tr>\n",
       "    <tr>\n",
       "      <th>264</th>\n",
       "      <td>0.12</td>\n",
       "      <td>0.03</td>\n",
       "      <td>0.08</td>\n",
       "    </tr>\n",
       "    <tr>\n",
       "      <th>265</th>\n",
       "      <td>0.12</td>\n",
       "      <td>0.34</td>\n",
       "      <td>-0.23</td>\n",
       "    </tr>\n",
       "    <tr>\n",
       "      <th>266</th>\n",
       "      <td>0.12</td>\n",
       "      <td>0.17</td>\n",
       "      <td>-0.05</td>\n",
       "    </tr>\n",
       "    <tr>\n",
       "      <th>267</th>\n",
       "      <td>0.12</td>\n",
       "      <td>0.10</td>\n",
       "      <td>0.02</td>\n",
       "    </tr>\n",
       "  </tbody>\n",
       "</table>\n",
       "<p>268 rows × 3 columns</p>\n",
       "</div>"
      ],
      "text/plain": [
       "     Y Predicted  Y Actual  error\n",
       "0           0.12      0.10   0.02\n",
       "1           0.12      0.07   0.05\n",
       "2           0.12      0.18  -0.06\n",
       "3           0.12      0.37  -0.26\n",
       "4           0.12      0.04   0.07\n",
       "..           ...       ...    ...\n",
       "263         0.50      0.67  -0.17\n",
       "264         0.12      0.03   0.08\n",
       "265         0.12      0.34  -0.23\n",
       "266         0.12      0.17  -0.05\n",
       "267         0.12      0.10   0.02\n",
       "\n",
       "[268 rows x 3 columns]"
      ]
     },
     "execution_count": 52,
     "metadata": {},
     "output_type": "execute_result"
    }
   ],
   "source": [
    "uni_lrm_df =  pd.DataFrame()\n",
    "uni_lrm_df['Y Predicted'] = pd.DataFrame(y_predict1)\n",
    "uni_lrm_df['Y Actual'] = y1_test\n",
    "uni_lrm_df['error'] = uni_lrm_df['Y Predicted'] - uni_lrm_df['Y Actual']\n",
    "uni_lrm_df.round(2)"
   ]
  },
  {
   "cell_type": "markdown",
   "id": "7d7eeb0c",
   "metadata": {},
   "source": [
    "## Metric calculation"
   ]
  },
  {
   "cell_type": "code",
   "execution_count": 53,
   "id": "c00be0d9",
   "metadata": {},
   "outputs": [
    {
     "name": "stdout",
     "output_type": "stream",
     "text": [
      "Mean Squared Error      =  0.01\n",
      "Mean Absolute Error     =  0.09\n",
      "Root Mean Squared Error =  0.12\n"
     ]
    }
   ],
   "source": [
    "mse1 = round(mean_squared_error(y1_test, y_predict1),2)\n",
    "mae1 = round(mean_absolute_error(y1_test, y_predict1),2)\n",
    "rmse1 = round(mean_squared_error(y1_test, y_predict1, squared= False),2)\n",
    "\n",
    "print(\"Mean Squared Error      = \",mse1)\n",
    "print(\"Mean Absolute Error     = \",mae1)\n",
    "print(\"Root Mean Squared Error = \",rmse1)"
   ]
  },
  {
   "cell_type": "markdown",
   "id": "1813a660",
   "metadata": {},
   "source": [
    "## Equation of x-y relationship (smoker - charges)\n",
    "\n",
    "## y = (0.11 * x) + (0.38)"
   ]
  },
  {
   "cell_type": "markdown",
   "id": "833dde59",
   "metadata": {},
   "source": [
    "# Conclusion: as the value of errors is small and R2 value is 62.28%  this is a good model"
   ]
  },
  {
   "cell_type": "markdown",
   "id": "935772cc",
   "metadata": {},
   "source": [
    "# --------------------------------------------------------------------------------------------------------------\n",
    "# Linear Regression Model - Bivariate"
   ]
  },
  {
   "cell_type": "markdown",
   "id": "64b33a7c",
   "metadata": {},
   "source": [
    "## Train_Test_Split "
   ]
  },
  {
   "cell_type": "code",
   "execution_count": 54,
   "id": "c32c09ff",
   "metadata": {},
   "outputs": [
    {
     "data": {
      "text/plain": [
       "((1070, 2), (268, 2), (1070,), (268,))"
      ]
     },
     "execution_count": 54,
     "metadata": {},
     "output_type": "execute_result"
    }
   ],
   "source": [
    "x2 = scaled_df[['age','smoker_encode']]\n",
    "y2 = scaled_df['charges']\n",
    "\n",
    "\n",
    "x2_train, x2_test, y2_train, y2_test = train_test_split(x2, y2, test_size = 0.2, random_state = 10)\n",
    "x2_train.shape, x2_test.shape, y2_train.shape, y2_test.shape"
   ]
  },
  {
   "cell_type": "code",
   "execution_count": 55,
   "id": "eb2e2657",
   "metadata": {},
   "outputs": [
    {
     "data": {
      "text/plain": [
       "((1070, 1), (268, 1))"
      ]
     },
     "execution_count": 55,
     "metadata": {},
     "output_type": "execute_result"
    }
   ],
   "source": [
    "y2_train = y2_train.values.reshape(-1,1)\n",
    "y2_test = y2_test.values.reshape(-1,1)\n",
    "y2_train.shape, y2_test.shape"
   ]
  },
  {
   "cell_type": "code",
   "execution_count": 56,
   "id": "7a1f135a",
   "metadata": {},
   "outputs": [],
   "source": [
    "bi_lrm = LinearRegression().fit(x2_train, y2_train)"
   ]
  },
  {
   "cell_type": "code",
   "execution_count": 57,
   "id": "d4b5d0b7",
   "metadata": {},
   "outputs": [
    {
     "name": "stdout",
     "output_type": "stream",
     "text": [
      "R square - Coefficient of Determinant = 71.71 % \n"
     ]
    }
   ],
   "source": [
    "# Calculating the R sq Value \n",
    "\n",
    "coef_deter2 = round((bi_lrm.score(x2_train, y2_train))*100,2)\n",
    "print(\"R square - Coefficient of Determinant = {} % \".format(coef_deter2))"
   ]
  },
  {
   "cell_type": "code",
   "execution_count": 58,
   "id": "0748fdf3",
   "metadata": {},
   "outputs": [
    {
     "name": "stdout",
     "output_type": "stream",
     "text": [
      "Intercept of line =  [-0.03851562]\n",
      "Linear Regression Coefficient =  [[0.75651072 0.38601677]]\n"
     ]
    }
   ],
   "source": [
    "intercept2 = bi_lrm.intercept_\n",
    "coef2 = bi_lrm.coef_\n",
    "\n",
    "print(\"Intercept of line = \",intercept2)\n",
    "print(\"Linear Regression Coefficient = \",coef2)"
   ]
  },
  {
   "cell_type": "markdown",
   "id": "8c20f9f3",
   "metadata": {},
   "source": [
    "## Conclusion: Since the R2 value is more than 50% this model can be used to predict the y values"
   ]
  },
  {
   "cell_type": "code",
   "execution_count": 59,
   "id": "8697831f",
   "metadata": {},
   "outputs": [
    {
     "data": {
      "text/html": [
       "<div>\n",
       "<style scoped>\n",
       "    .dataframe tbody tr th:only-of-type {\n",
       "        vertical-align: middle;\n",
       "    }\n",
       "\n",
       "    .dataframe tbody tr th {\n",
       "        vertical-align: top;\n",
       "    }\n",
       "\n",
       "    .dataframe thead th {\n",
       "        text-align: right;\n",
       "    }\n",
       "</style>\n",
       "<table border=\"1\" class=\"dataframe\">\n",
       "  <thead>\n",
       "    <tr style=\"text-align: right;\">\n",
       "      <th></th>\n",
       "      <th>Y Predicted</th>\n",
       "      <th>Y Actual</th>\n",
       "      <th>error</th>\n",
       "    </tr>\n",
       "  </thead>\n",
       "  <tbody>\n",
       "    <tr>\n",
       "      <th>0</th>\n",
       "      <td>0.11</td>\n",
       "      <td>0.10</td>\n",
       "      <td>0.01</td>\n",
       "    </tr>\n",
       "    <tr>\n",
       "      <th>1</th>\n",
       "      <td>0.10</td>\n",
       "      <td>0.07</td>\n",
       "      <td>0.04</td>\n",
       "    </tr>\n",
       "    <tr>\n",
       "      <th>2</th>\n",
       "      <td>0.19</td>\n",
       "      <td>0.18</td>\n",
       "      <td>0.01</td>\n",
       "    </tr>\n",
       "    <tr>\n",
       "      <th>3</th>\n",
       "      <td>0.20</td>\n",
       "      <td>0.37</td>\n",
       "      <td>-0.17</td>\n",
       "    </tr>\n",
       "    <tr>\n",
       "      <th>4</th>\n",
       "      <td>0.07</td>\n",
       "      <td>0.04</td>\n",
       "      <td>0.03</td>\n",
       "    </tr>\n",
       "    <tr>\n",
       "      <th>...</th>\n",
       "      <td>...</td>\n",
       "      <td>...</td>\n",
       "      <td>...</td>\n",
       "    </tr>\n",
       "    <tr>\n",
       "      <th>263</th>\n",
       "      <td>0.54</td>\n",
       "      <td>0.67</td>\n",
       "      <td>-0.12</td>\n",
       "    </tr>\n",
       "    <tr>\n",
       "      <th>264</th>\n",
       "      <td>0.06</td>\n",
       "      <td>0.03</td>\n",
       "      <td>0.03</td>\n",
       "    </tr>\n",
       "    <tr>\n",
       "      <th>265</th>\n",
       "      <td>0.03</td>\n",
       "      <td>0.34</td>\n",
       "      <td>-0.31</td>\n",
       "    </tr>\n",
       "    <tr>\n",
       "      <th>266</th>\n",
       "      <td>0.19</td>\n",
       "      <td>0.17</td>\n",
       "      <td>0.02</td>\n",
       "    </tr>\n",
       "    <tr>\n",
       "      <th>267</th>\n",
       "      <td>0.13</td>\n",
       "      <td>0.10</td>\n",
       "      <td>0.03</td>\n",
       "    </tr>\n",
       "  </tbody>\n",
       "</table>\n",
       "<p>268 rows × 3 columns</p>\n",
       "</div>"
      ],
      "text/plain": [
       "     Y Predicted  Y Actual   error\n",
       "0           0.11       0.10   0.01\n",
       "1           0.10       0.07   0.04\n",
       "2           0.19       0.18   0.01\n",
       "3           0.20       0.37  -0.17\n",
       "4           0.07       0.04   0.03\n",
       "..           ...        ...    ...\n",
       "263         0.54       0.67  -0.12\n",
       "264         0.06       0.03   0.03\n",
       "265         0.03       0.34  -0.31\n",
       "266         0.19       0.17   0.02\n",
       "267         0.13       0.10   0.03\n",
       "\n",
       "[268 rows x 3 columns]"
      ]
     },
     "execution_count": 59,
     "metadata": {},
     "output_type": "execute_result"
    }
   ],
   "source": [
    "y_predict2 = bi_lrm.predict(x2_test)\n",
    "bi_lrm_df =  pd.DataFrame()\n",
    "bi_lrm_df['Y Predicted'] = pd.DataFrame(y_predict2)\n",
    "bi_lrm_df['Y Actual '] = y1_test\n",
    "bi_lrm_df['error'] = bi_lrm_df['Y Predicted'] - bi_lrm_df['Y Actual ']\n",
    "bi_lrm_df.round(2)"
   ]
  },
  {
   "cell_type": "markdown",
   "id": "6027b9f9",
   "metadata": {},
   "source": [
    "# Metric calculation "
   ]
  },
  {
   "cell_type": "code",
   "execution_count": 60,
   "id": "9c7c16da",
   "metadata": {},
   "outputs": [
    {
     "name": "stdout",
     "output_type": "stream",
     "text": [
      "Mean Squared Error      =  0.01\n",
      "Mean Absolute Error     =  0.07\n",
      "Root Mean Squared Error =  0.11\n"
     ]
    }
   ],
   "source": [
    "mse2 = round(mean_squared_error(y2_test, y_predict2),2)\n",
    "mae2 = round(mean_absolute_error(y2_test, y_predict2),2)\n",
    "rmse2 = round(mean_squared_error(y2_test, y_predict2, squared= False),2)\n",
    "\n",
    "print(\"Mean Squared Error      = \",mse2)\n",
    "print(\"Mean Absolute Error     = \",mae2)\n",
    "print(\"Root Mean Squared Error = \",rmse2)"
   ]
  },
  {
   "cell_type": "markdown",
   "id": "7e568441",
   "metadata": {},
   "source": [
    "## Equation of x-y relationship (smoker , age - charges)\n",
    "\n",
    "## y = (0.75 * x1)+(0.38 * x2 ) + (-0.038)"
   ]
  },
  {
   "cell_type": "markdown",
   "id": "80c45ff7",
   "metadata": {},
   "source": [
    "# Conclusion: as the value of errors is small and R2 value is 71.71%  this is a good model"
   ]
  },
  {
   "cell_type": "markdown",
   "id": "24370364",
   "metadata": {},
   "source": [
    "# --------------------------------------------------------------------------------------------------------------\n",
    "# Linear Regression Model - multivariate"
   ]
  },
  {
   "cell_type": "code",
   "execution_count": 61,
   "id": "9d41ada5",
   "metadata": {},
   "outputs": [
    {
     "data": {
      "text/plain": [
       "((1070, 6), (268, 6), (1070,), (268,))"
      ]
     },
     "execution_count": 61,
     "metadata": {},
     "output_type": "execute_result"
    }
   ],
   "source": [
    "x3 = scaled_df.copy()\n",
    "x3.drop(['charges', 'region_encode'], axis = 1, inplace = True)\n",
    "\n",
    "y3 = scaled_df['charges']\n",
    "\n",
    "\n",
    "x3_train, x3_test, y3_train, y3_test = train_test_split(x3, y3, test_size = 0.2, random_state = 10)\n",
    "x3_train.shape, x3_test.shape, y3_train.shape, y3_test.shape"
   ]
  },
  {
   "cell_type": "code",
   "execution_count": 62,
   "id": "acd75b0f",
   "metadata": {},
   "outputs": [
    {
     "data": {
      "text/plain": [
       "((1070, 1), (268, 1))"
      ]
     },
     "execution_count": 62,
     "metadata": {},
     "output_type": "execute_result"
    }
   ],
   "source": [
    "y3_train = y3_train.values.reshape(-1,1)\n",
    "y3_test = y3_test.values.reshape(-1,1)\n",
    "y3_train.shape, y3_test.shape"
   ]
  },
  {
   "cell_type": "code",
   "execution_count": 63,
   "id": "5e9e8961",
   "metadata": {},
   "outputs": [],
   "source": [
    "multi_lrm = LinearRegression().fit(x3_train, y3_train)"
   ]
  },
  {
   "cell_type": "code",
   "execution_count": 64,
   "id": "d04496ae",
   "metadata": {},
   "outputs": [
    {
     "name": "stdout",
     "output_type": "stream",
     "text": [
      "R square - Coefficient of Determinant = 75.19 % \n",
      "Intercept of line =  [-0.10630415]\n",
      "Linear Regression Coefficient =  [[ 0.68873417  0.20974619  0.04584314 -0.00398171 -0.02745832  0.38524316]]\n"
     ]
    }
   ],
   "source": [
    "coef_deter3 = round((multi_lrm.score(x3_train, y3_train))*100,2)\n",
    "print(\"R square - Coefficient of Determinant = {} % \".format(coef_deter3))\n",
    "\n",
    "intercept3 = multi_lrm.intercept_\n",
    "coef3 = multi_lrm.coef_\n",
    "\n",
    "print(\"Intercept of line = \",intercept3)\n",
    "print(\"Linear Regression Coefficient = \",coef3)"
   ]
  },
  {
   "cell_type": "code",
   "execution_count": 65,
   "id": "59b18ad5",
   "metadata": {},
   "outputs": [
    {
     "data": {
      "text/html": [
       "<div>\n",
       "<style scoped>\n",
       "    .dataframe tbody tr th:only-of-type {\n",
       "        vertical-align: middle;\n",
       "    }\n",
       "\n",
       "    .dataframe tbody tr th {\n",
       "        vertical-align: top;\n",
       "    }\n",
       "\n",
       "    .dataframe thead th {\n",
       "        text-align: right;\n",
       "    }\n",
       "</style>\n",
       "<table border=\"1\" class=\"dataframe\">\n",
       "  <thead>\n",
       "    <tr style=\"text-align: right;\">\n",
       "      <th></th>\n",
       "      <th>Y Predicted</th>\n",
       "      <th>Y Actual</th>\n",
       "      <th>error</th>\n",
       "    </tr>\n",
       "  </thead>\n",
       "  <tbody>\n",
       "    <tr>\n",
       "      <th>0</th>\n",
       "      <td>0.10</td>\n",
       "      <td>0.10</td>\n",
       "      <td>0.00</td>\n",
       "    </tr>\n",
       "    <tr>\n",
       "      <th>1</th>\n",
       "      <td>0.06</td>\n",
       "      <td>0.07</td>\n",
       "      <td>-0.00</td>\n",
       "    </tr>\n",
       "    <tr>\n",
       "      <th>2</th>\n",
       "      <td>0.22</td>\n",
       "      <td>0.18</td>\n",
       "      <td>0.04</td>\n",
       "    </tr>\n",
       "    <tr>\n",
       "      <th>3</th>\n",
       "      <td>0.15</td>\n",
       "      <td>0.37</td>\n",
       "      <td>-0.23</td>\n",
       "    </tr>\n",
       "    <tr>\n",
       "      <th>4</th>\n",
       "      <td>0.03</td>\n",
       "      <td>0.04</td>\n",
       "      <td>-0.01</td>\n",
       "    </tr>\n",
       "    <tr>\n",
       "      <th>...</th>\n",
       "      <td>...</td>\n",
       "      <td>...</td>\n",
       "      <td>...</td>\n",
       "    </tr>\n",
       "    <tr>\n",
       "      <th>263</th>\n",
       "      <td>0.57</td>\n",
       "      <td>0.67</td>\n",
       "      <td>-0.10</td>\n",
       "    </tr>\n",
       "    <tr>\n",
       "      <th>264</th>\n",
       "      <td>0.11</td>\n",
       "      <td>0.03</td>\n",
       "      <td>0.07</td>\n",
       "    </tr>\n",
       "    <tr>\n",
       "      <th>265</th>\n",
       "      <td>0.02</td>\n",
       "      <td>0.34</td>\n",
       "      <td>-0.32</td>\n",
       "    </tr>\n",
       "    <tr>\n",
       "      <th>266</th>\n",
       "      <td>0.22</td>\n",
       "      <td>0.17</td>\n",
       "      <td>0.05</td>\n",
       "    </tr>\n",
       "    <tr>\n",
       "      <th>267</th>\n",
       "      <td>0.16</td>\n",
       "      <td>0.10</td>\n",
       "      <td>0.06</td>\n",
       "    </tr>\n",
       "  </tbody>\n",
       "</table>\n",
       "<p>268 rows × 3 columns</p>\n",
       "</div>"
      ],
      "text/plain": [
       "     Y Predicted  Y Actual  error\n",
       "0           0.10      0.10   0.00\n",
       "1           0.06      0.07  -0.00\n",
       "2           0.22      0.18   0.04\n",
       "3           0.15      0.37  -0.23\n",
       "4           0.03      0.04  -0.01\n",
       "..           ...       ...    ...\n",
       "263         0.57      0.67  -0.10\n",
       "264         0.11      0.03   0.07\n",
       "265         0.02      0.34  -0.32\n",
       "266         0.22      0.17   0.05\n",
       "267         0.16      0.10   0.06\n",
       "\n",
       "[268 rows x 3 columns]"
      ]
     },
     "execution_count": 65,
     "metadata": {},
     "output_type": "execute_result"
    }
   ],
   "source": [
    "y_predict3 = multi_lrm.predict(x3_test)\n",
    "multi_lrm_df =  pd.DataFrame()\n",
    "multi_lrm_df['Y Predicted'] = pd.DataFrame(y_predict3)\n",
    "multi_lrm_df['Y Actual'] = y1_test\n",
    "multi_lrm_df['error'] = multi_lrm_df['Y Predicted'] - multi_lrm_df['Y Actual']\n",
    "multi_lrm_df.round(2)"
   ]
  },
  {
   "cell_type": "code",
   "execution_count": 66,
   "id": "f0361e9c",
   "metadata": {},
   "outputs": [
    {
     "name": "stdout",
     "output_type": "stream",
     "text": [
      "Mean Squared Error      =  0.01\n",
      "Mean Absolute Error     =  0.07\n",
      "Root Mean Squared Error =  0.1\n"
     ]
    }
   ],
   "source": [
    "mse3 = round(mean_squared_error(y3_test, y_predict3),2)\n",
    "mae3 = round(mean_absolute_error(y3_test, y_predict3),2)\n",
    "rmse3 = round(mean_squared_error(y3_test, y_predict3, squared= False),2)\n",
    "\n",
    "print(\"Mean Squared Error      = \",mse3)\n",
    "print(\"Mean Absolute Error     = \",mae3)\n",
    "print(\"Root Mean Squared Error = \",rmse3)"
   ]
  },
  {
   "cell_type": "markdown",
   "id": "ff6081f8",
   "metadata": {},
   "source": [
    "# Conclusion: as the value of errors is small and R2 value is 75.19%  this is a good model"
   ]
  },
  {
   "cell_type": "markdown",
   "id": "69cd78a4",
   "metadata": {},
   "source": [
    "# --------------------------------------------------------------------------------------------------------------\n",
    "# Conclusion for Linear Regression Model "
   ]
  },
  {
   "cell_type": "code",
   "execution_count": 67,
   "id": "ed91480d",
   "metadata": {},
   "outputs": [
    {
     "data": {
      "text/html": [
       "<div>\n",
       "<style scoped>\n",
       "    .dataframe tbody tr th:only-of-type {\n",
       "        vertical-align: middle;\n",
       "    }\n",
       "\n",
       "    .dataframe tbody tr th {\n",
       "        vertical-align: top;\n",
       "    }\n",
       "\n",
       "    .dataframe thead th {\n",
       "        text-align: right;\n",
       "    }\n",
       "</style>\n",
       "<table border=\"1\" class=\"dataframe\">\n",
       "  <thead>\n",
       "    <tr style=\"text-align: right;\">\n",
       "      <th></th>\n",
       "      <th>model</th>\n",
       "      <th>R sq %</th>\n",
       "      <th>MSE</th>\n",
       "      <th>RMSE</th>\n",
       "      <th>MAE</th>\n",
       "    </tr>\n",
       "  </thead>\n",
       "  <tbody>\n",
       "    <tr>\n",
       "      <th>0</th>\n",
       "      <td>Univariate</td>\n",
       "      <td>62.28</td>\n",
       "      <td>0.01</td>\n",
       "      <td>0.12</td>\n",
       "      <td>0.09</td>\n",
       "    </tr>\n",
       "    <tr>\n",
       "      <th>1</th>\n",
       "      <td>Bivariate</td>\n",
       "      <td>62.28</td>\n",
       "      <td>0.01</td>\n",
       "      <td>0.11</td>\n",
       "      <td>0.07</td>\n",
       "    </tr>\n",
       "    <tr>\n",
       "      <th>2</th>\n",
       "      <td>Multivariate</td>\n",
       "      <td>75.19</td>\n",
       "      <td>0.01</td>\n",
       "      <td>0.10</td>\n",
       "      <td>0.07</td>\n",
       "    </tr>\n",
       "  </tbody>\n",
       "</table>\n",
       "</div>"
      ],
      "text/plain": [
       "          model  R sq %    MSE  RMSE   MAE\n",
       "0    Univariate    62.28  0.01  0.12  0.09\n",
       "1     Bivariate    62.28  0.01  0.11  0.07\n",
       "2  Multivariate    75.19  0.01  0.10  0.07"
      ]
     },
     "execution_count": 67,
     "metadata": {},
     "output_type": "execute_result"
    }
   ],
   "source": [
    "linear = pd.DataFrame()\n",
    "linear['model'] = ['Univariate','Bivariate','Multivariate']\n",
    "linear['R sq % '] = [coef_deter1, coef_deter1, coef_deter3]\n",
    "linear['MSE'] = [mse1, mse2, mse3]\n",
    "linear['RMSE'] = [rmse1, rmse2, rmse3]\n",
    "linear['MAE'] = [mae1, mae2, mae3]\n",
    "linear.round(2)"
   ]
  },
  {
   "cell_type": "markdown",
   "id": "8b074ca1",
   "metadata": {},
   "source": [
    "# Multivariate Linear Regression model gives the best r2 value and least error hence that is the best model for prediction"
   ]
  },
  {
   "cell_type": "markdown",
   "id": "985a68a6",
   "metadata": {},
   "source": [
    "## --------------------------------------------------------------------------------------------------------------------\n",
    "# Decision Tree Regressor "
   ]
  },
  {
   "cell_type": "code",
   "execution_count": 68,
   "id": "ec81bbc2",
   "metadata": {},
   "outputs": [],
   "source": [
    "model_tree_reg = DecisionTreeRegressor(random_state = 10)"
   ]
  },
  {
   "cell_type": "code",
   "execution_count": 69,
   "id": "9348fc39",
   "metadata": {},
   "outputs": [],
   "source": [
    "params = {\n",
    " 'max_depth': [2,3,5,10,20],\n",
    " 'min_samples_leaf': [5,10,20,50,100,200]\n",
    "}"
   ]
  },
  {
   "cell_type": "code",
   "execution_count": 70,
   "id": "65a92908",
   "metadata": {},
   "outputs": [],
   "source": [
    "grid_search = GridSearchCV(estimator=model_tree_reg,\n",
    "                           param_grid=params,\n",
    "                           cv = 4,\n",
    "                           n_jobs=-1, verbose=3, scoring=\"accuracy\")"
   ]
  },
  {
   "cell_type": "code",
   "execution_count": 71,
   "id": "e0eade26",
   "metadata": {},
   "outputs": [
    {
     "name": "stdout",
     "output_type": "stream",
     "text": [
      "Fitting 4 folds for each of 30 candidates, totalling 120 fits\n",
      "CPU times: total: 156 ms\n",
      "Wall time: 5.2 s\n"
     ]
    },
    {
     "data": {
      "text/plain": [
       "GridSearchCV(cv=4, estimator=DecisionTreeRegressor(random_state=10), n_jobs=-1,\n",
       "             param_grid={'max_depth': [2, 3, 5, 10, 20],\n",
       "                         'min_samples_leaf': [5, 10, 20, 50, 100, 200]},\n",
       "             scoring='accuracy', verbose=3)"
      ]
     },
     "execution_count": 71,
     "metadata": {},
     "output_type": "execute_result"
    }
   ],
   "source": [
    "%%time\n",
    "grid_search.fit(x3_train, y3_train)"
   ]
  },
  {
   "cell_type": "code",
   "execution_count": 72,
   "id": "96d4f98d",
   "metadata": {},
   "outputs": [
    {
     "data": {
      "text/plain": [
       "DecisionTreeRegressor(max_depth=2, min_samples_leaf=5, random_state=10)"
      ]
     },
     "execution_count": 72,
     "metadata": {},
     "output_type": "execute_result"
    }
   ],
   "source": [
    "model_tree_best = grid_search.best_estimator_\n",
    "model_tree_best"
   ]
  },
  {
   "cell_type": "code",
   "execution_count": 73,
   "id": "4e2ab8bb",
   "metadata": {},
   "outputs": [],
   "source": [
    "tree_reg = DecisionTreeRegressor(max_depth=2, min_samples_leaf=5, random_state=10)"
   ]
  },
  {
   "cell_type": "code",
   "execution_count": 74,
   "id": "435a8d3f",
   "metadata": {},
   "outputs": [
    {
     "name": "stdout",
     "output_type": "stream",
     "text": [
      "R-Squared on train dataset = 82.88%\n",
      "R-Squared on test dataset = 80.73%\n"
     ]
    }
   ],
   "source": [
    "train_accuracy = tree_reg.fit(x3_train,y3_train)\n",
    "\n",
    "print(\"R-Squared on train dataset = {}%\".format((tree_reg.score(x3_train,y3_train)*100).round(2)))\n",
    "\n",
    "test_accuracy = model_tree_reg.fit(x3_test,y3_test) \n",
    "test_accuracy1 = (tree_reg.score(x3_test,y3_test)*100).round(2)\n",
    "\n",
    "print(\"R-Squared on test dataset = {}%\".format(test_accuracy1))"
   ]
  },
  {
   "cell_type": "markdown",
   "id": "f79e914a",
   "metadata": {},
   "source": [
    "## Since the R square values are extremely high this model is a good model "
   ]
  },
  {
   "cell_type": "code",
   "execution_count": 75,
   "id": "7171f9ef",
   "metadata": {},
   "outputs": [
    {
     "data": {
      "image/png": "[encoded data removed]",
      "text/plain": [
       "<Figure size 1800x1200 with 1 Axes>"
      ]
     },
     "metadata": {
      "needs_background": "light"
     },
     "output_type": "display_data"
    }
   ],
   "source": [
    "fig, axes = plt.subplots(dpi=300)\n",
    "tree.plot_tree(tree_reg, filled = True)\n",
    "plt.show()"
   ]
  },
  {
   "cell_type": "code",
   "execution_count": 76,
   "id": "f5df5e3a",
   "metadata": {},
   "outputs": [
    {
     "data": {
      "text/html": [
       "<div>\n",
       "<style scoped>\n",
       "    .dataframe tbody tr th:only-of-type {\n",
       "        vertical-align: middle;\n",
       "    }\n",
       "\n",
       "    .dataframe tbody tr th {\n",
       "        vertical-align: top;\n",
       "    }\n",
       "\n",
       "    .dataframe thead th {\n",
       "        text-align: right;\n",
       "    }\n",
       "</style>\n",
       "<table border=\"1\" class=\"dataframe\">\n",
       "  <thead>\n",
       "    <tr style=\"text-align: right;\">\n",
       "      <th></th>\n",
       "      <th>Y Predicted</th>\n",
       "      <th>Y Actual</th>\n",
       "      <th>Error</th>\n",
       "    </tr>\n",
       "  </thead>\n",
       "  <tbody>\n",
       "    <tr>\n",
       "      <th>0</th>\n",
       "      <td>0.07</td>\n",
       "      <td>0.10</td>\n",
       "      <td>0.03</td>\n",
       "    </tr>\n",
       "    <tr>\n",
       "      <th>1</th>\n",
       "      <td>0.07</td>\n",
       "      <td>0.07</td>\n",
       "      <td>-0.00</td>\n",
       "    </tr>\n",
       "    <tr>\n",
       "      <th>2</th>\n",
       "      <td>0.18</td>\n",
       "      <td>0.18</td>\n",
       "      <td>0.00</td>\n",
       "    </tr>\n",
       "    <tr>\n",
       "      <th>3</th>\n",
       "      <td>0.18</td>\n",
       "      <td>0.37</td>\n",
       "      <td>0.20</td>\n",
       "    </tr>\n",
       "    <tr>\n",
       "      <th>4</th>\n",
       "      <td>0.07</td>\n",
       "      <td>0.04</td>\n",
       "      <td>-0.02</td>\n",
       "    </tr>\n",
       "    <tr>\n",
       "      <th>...</th>\n",
       "      <td>...</td>\n",
       "      <td>...</td>\n",
       "      <td>...</td>\n",
       "    </tr>\n",
       "    <tr>\n",
       "      <th>263</th>\n",
       "      <td>0.65</td>\n",
       "      <td>0.67</td>\n",
       "      <td>0.02</td>\n",
       "    </tr>\n",
       "    <tr>\n",
       "      <th>264</th>\n",
       "      <td>0.07</td>\n",
       "      <td>0.03</td>\n",
       "      <td>-0.03</td>\n",
       "    </tr>\n",
       "    <tr>\n",
       "      <th>265</th>\n",
       "      <td>0.07</td>\n",
       "      <td>0.34</td>\n",
       "      <td>0.27</td>\n",
       "    </tr>\n",
       "    <tr>\n",
       "      <th>266</th>\n",
       "      <td>0.18</td>\n",
       "      <td>0.17</td>\n",
       "      <td>-0.01</td>\n",
       "    </tr>\n",
       "    <tr>\n",
       "      <th>267</th>\n",
       "      <td>0.07</td>\n",
       "      <td>0.10</td>\n",
       "      <td>0.03</td>\n",
       "    </tr>\n",
       "  </tbody>\n",
       "</table>\n",
       "<p>268 rows × 3 columns</p>\n",
       "</div>"
      ],
      "text/plain": [
       "     Y Predicted  Y Actual  Error\n",
       "0           0.07      0.10   0.03\n",
       "1           0.07      0.07  -0.00\n",
       "2           0.18      0.18   0.00\n",
       "3           0.18      0.37   0.20\n",
       "4           0.07      0.04  -0.02\n",
       "..           ...       ...    ...\n",
       "263         0.65      0.67   0.02\n",
       "264         0.07      0.03  -0.03\n",
       "265         0.07      0.34   0.27\n",
       "266         0.18      0.17  -0.01\n",
       "267         0.07      0.10   0.03\n",
       "\n",
       "[268 rows x 3 columns]"
      ]
     },
     "execution_count": 76,
     "metadata": {},
     "output_type": "execute_result"
    }
   ],
   "source": [
    "y_predict4 = tree_reg.predict(x3_test)\n",
    "\n",
    "\n",
    "y_values_dt = pd.DataFrame()\n",
    "y_values_dt['Y Predicted'] = pd.DataFrame(y_predict4)\n",
    "y_values_dt['Y Actual'] = y3_test\n",
    "y_values_dt['Error'] = y_values_dt['Y Actual'] - y_values_dt['Y Predicted']\n",
    "y_values_dt.round(2)"
   ]
  },
  {
   "cell_type": "code",
   "execution_count": 77,
   "id": "4b8766ed",
   "metadata": {
    "scrolled": false
   },
   "outputs": [
    {
     "name": "stdout",
     "output_type": "stream",
     "text": [
      "Mean Squared Error      =  0.006885739215549826\n",
      "Mean Absolute Error     =  0.054368931803104245\n",
      "Root Mean Squared Error =  0.08298035439518095\n"
     ]
    }
   ],
   "source": [
    "mse4 = mean_squared_error(y3_test, y_predict4)\n",
    "mae4 = mean_absolute_error(y3_test, y_predict4)\n",
    "rmse4 = mean_squared_error(y3_test, y_predict4, squared= False)\n",
    "\n",
    "print(\"Mean Squared Error      = \",mse4)\n",
    "print(\"Mean Absolute Error     = \",mae4)\n",
    "print(\"Root Mean Squared Error = \",rmse4)"
   ]
  },
  {
   "cell_type": "markdown",
   "id": "cfc10d55",
   "metadata": {},
   "source": [
    "# This is good model as there is high r2 value of 80% and lower values of errors"
   ]
  },
  {
   "cell_type": "markdown",
   "id": "e12965fa",
   "metadata": {},
   "source": [
    "# -----------------------------------------------------------------------------------------------\n",
    "# Random Forest regressor"
   ]
  },
  {
   "cell_type": "code",
   "execution_count": 78,
   "id": "ca4999cd",
   "metadata": {},
   "outputs": [
    {
     "data": {
      "text/html": [
       "<div>\n",
       "<style scoped>\n",
       "    .dataframe tbody tr th:only-of-type {\n",
       "        vertical-align: middle;\n",
       "    }\n",
       "\n",
       "    .dataframe tbody tr th {\n",
       "        vertical-align: top;\n",
       "    }\n",
       "\n",
       "    .dataframe thead th {\n",
       "        text-align: right;\n",
       "    }\n",
       "</style>\n",
       "<table border=\"1\" class=\"dataframe\">\n",
       "  <thead>\n",
       "    <tr style=\"text-align: right;\">\n",
       "      <th></th>\n",
       "      <th>age</th>\n",
       "      <th>bmi</th>\n",
       "      <th>children</th>\n",
       "      <th>sex_encode</th>\n",
       "      <th>classif_encode</th>\n",
       "      <th>smoker_encode</th>\n",
       "    </tr>\n",
       "  </thead>\n",
       "  <tbody>\n",
       "    <tr>\n",
       "      <th>0</th>\n",
       "      <td>0.095238</td>\n",
       "      <td>0.321227</td>\n",
       "      <td>0.0</td>\n",
       "      <td>0.0</td>\n",
       "      <td>0.666667</td>\n",
       "      <td>1.0</td>\n",
       "    </tr>\n",
       "    <tr>\n",
       "      <th>1</th>\n",
       "      <td>0.089947</td>\n",
       "      <td>0.479150</td>\n",
       "      <td>0.2</td>\n",
       "      <td>1.0</td>\n",
       "      <td>0.166667</td>\n",
       "      <td>0.0</td>\n",
       "    </tr>\n",
       "    <tr>\n",
       "      <th>2</th>\n",
       "      <td>0.142857</td>\n",
       "      <td>0.458434</td>\n",
       "      <td>0.6</td>\n",
       "      <td>1.0</td>\n",
       "      <td>0.166667</td>\n",
       "      <td>0.0</td>\n",
       "    </tr>\n",
       "    <tr>\n",
       "      <th>3</th>\n",
       "      <td>0.089947</td>\n",
       "      <td>0.181464</td>\n",
       "      <td>0.0</td>\n",
       "      <td>1.0</td>\n",
       "      <td>0.000000</td>\n",
       "      <td>0.0</td>\n",
       "    </tr>\n",
       "    <tr>\n",
       "      <th>4</th>\n",
       "      <td>0.164021</td>\n",
       "      <td>0.347592</td>\n",
       "      <td>0.0</td>\n",
       "      <td>1.0</td>\n",
       "      <td>0.666667</td>\n",
       "      <td>0.0</td>\n",
       "    </tr>\n",
       "  </tbody>\n",
       "</table>\n",
       "</div>"
      ],
      "text/plain": [
       "        age       bmi  children  sex_encode  classif_encode  smoker_encode\n",
       "0  0.095238  0.321227       0.0         0.0        0.666667            1.0\n",
       "1  0.089947  0.479150       0.2         1.0        0.166667            0.0\n",
       "2  0.142857  0.458434       0.6         1.0        0.166667            0.0\n",
       "3  0.089947  0.181464       0.0         1.0        0.000000            0.0\n",
       "4  0.164021  0.347592       0.0         1.0        0.666667            0.0"
      ]
     },
     "execution_count": 78,
     "metadata": {},
     "output_type": "execute_result"
    }
   ],
   "source": [
    "x3.head()"
   ]
  },
  {
   "cell_type": "code",
   "execution_count": 79,
   "id": "954c8e4f",
   "metadata": {},
   "outputs": [
    {
     "data": {
      "text/plain": [
       "0    0.251611\n",
       "1    0.009636\n",
       "2    0.053115\n",
       "3    0.333010\n",
       "4    0.043816\n",
       "Name: charges, dtype: float64"
      ]
     },
     "execution_count": 79,
     "metadata": {},
     "output_type": "execute_result"
    }
   ],
   "source": [
    "y3.head()"
   ]
  },
  {
   "cell_type": "code",
   "execution_count": 80,
   "id": "29486f92",
   "metadata": {},
   "outputs": [
    {
     "name": "stdout",
     "output_type": "stream",
     "text": [
      "R2-Score: 0.820 (0.057)\n"
     ]
    }
   ],
   "source": [
    "# define the model\n",
    "rfr_model = RandomForestRegressor()\n",
    "\n",
    "# evaluate the model\n",
    "cv = RepeatedKFold(n_splits=10, n_repeats=3, random_state=10)\n",
    "n_scores1 = cross_val_score(rfr_model, x3, y3, scoring='r2', cv=cv, n_jobs=-1, error_score='raise')\n",
    "\n",
    "\n",
    "# report performance\n",
    "print('R2-Score: %.3f (%.3f)' % (np.mean(n_scores1), np.std(n_scores1)))"
   ]
  },
  {
   "cell_type": "code",
   "execution_count": 81,
   "id": "430b2062",
   "metadata": {},
   "outputs": [
    {
     "name": "stdout",
     "output_type": "stream",
     "text": [
      "R-Squared on train dataset = 97.73%\n",
      "R-Squared on test dataset = 96.77%\n"
     ]
    }
   ],
   "source": [
    "rfr_model.fit(x3_train,y3_train)\n",
    "\n",
    "print(\"R-Squared on train dataset = {}%\".format((rfr_model.score(x3_train,y3_train)*100).round(2)))\n",
    "\n",
    "rfr_model.fit(x3_test,y3_test) \n",
    "\n",
    "test_accuracy2 = (rfr_model.score(x3_test,y3_test)*100).round(2)\n",
    "\n",
    "print(\"R-Squared on test dataset = {}%\".format(test_accuracy2))"
   ]
  },
  {
   "cell_type": "code",
   "execution_count": 82,
   "id": "79161ae1",
   "metadata": {},
   "outputs": [
    {
     "data": {
      "text/html": [
       "<div>\n",
       "<style scoped>\n",
       "    .dataframe tbody tr th:only-of-type {\n",
       "        vertical-align: middle;\n",
       "    }\n",
       "\n",
       "    .dataframe tbody tr th {\n",
       "        vertical-align: top;\n",
       "    }\n",
       "\n",
       "    .dataframe thead th {\n",
       "        text-align: right;\n",
       "    }\n",
       "</style>\n",
       "<table border=\"1\" class=\"dataframe\">\n",
       "  <thead>\n",
       "    <tr style=\"text-align: right;\">\n",
       "      <th></th>\n",
       "      <th>Y Predicted</th>\n",
       "      <th>Y Actual</th>\n",
       "      <th>Error</th>\n",
       "    </tr>\n",
       "  </thead>\n",
       "  <tbody>\n",
       "    <tr>\n",
       "      <th>0</th>\n",
       "      <td>0.09</td>\n",
       "      <td>0.10</td>\n",
       "      <td>0.00</td>\n",
       "    </tr>\n",
       "    <tr>\n",
       "      <th>1</th>\n",
       "      <td>0.07</td>\n",
       "      <td>0.07</td>\n",
       "      <td>0.00</td>\n",
       "    </tr>\n",
       "    <tr>\n",
       "      <th>2</th>\n",
       "      <td>0.18</td>\n",
       "      <td>0.18</td>\n",
       "      <td>-0.00</td>\n",
       "    </tr>\n",
       "    <tr>\n",
       "      <th>3</th>\n",
       "      <td>0.32</td>\n",
       "      <td>0.37</td>\n",
       "      <td>0.05</td>\n",
       "    </tr>\n",
       "    <tr>\n",
       "      <th>4</th>\n",
       "      <td>0.05</td>\n",
       "      <td>0.04</td>\n",
       "      <td>-0.01</td>\n",
       "    </tr>\n",
       "    <tr>\n",
       "      <th>...</th>\n",
       "      <td>...</td>\n",
       "      <td>...</td>\n",
       "      <td>...</td>\n",
       "    </tr>\n",
       "    <tr>\n",
       "      <th>263</th>\n",
       "      <td>0.65</td>\n",
       "      <td>0.67</td>\n",
       "      <td>0.01</td>\n",
       "    </tr>\n",
       "    <tr>\n",
       "      <th>264</th>\n",
       "      <td>0.04</td>\n",
       "      <td>0.03</td>\n",
       "      <td>-0.00</td>\n",
       "    </tr>\n",
       "    <tr>\n",
       "      <th>265</th>\n",
       "      <td>0.29</td>\n",
       "      <td>0.34</td>\n",
       "      <td>0.05</td>\n",
       "    </tr>\n",
       "    <tr>\n",
       "      <th>266</th>\n",
       "      <td>0.17</td>\n",
       "      <td>0.17</td>\n",
       "      <td>0.00</td>\n",
       "    </tr>\n",
       "    <tr>\n",
       "      <th>267</th>\n",
       "      <td>0.12</td>\n",
       "      <td>0.10</td>\n",
       "      <td>-0.02</td>\n",
       "    </tr>\n",
       "  </tbody>\n",
       "</table>\n",
       "<p>268 rows × 3 columns</p>\n",
       "</div>"
      ],
      "text/plain": [
       "     Y Predicted  Y Actual  Error\n",
       "0           0.09      0.10   0.00\n",
       "1           0.07      0.07   0.00\n",
       "2           0.18      0.18  -0.00\n",
       "3           0.32      0.37   0.05\n",
       "4           0.05      0.04  -0.01\n",
       "..           ...       ...    ...\n",
       "263         0.65      0.67   0.01\n",
       "264         0.04      0.03  -0.00\n",
       "265         0.29      0.34   0.05\n",
       "266         0.17      0.17   0.00\n",
       "267         0.12      0.10  -0.02\n",
       "\n",
       "[268 rows x 3 columns]"
      ]
     },
     "execution_count": 82,
     "metadata": {},
     "output_type": "execute_result"
    }
   ],
   "source": [
    "y_predict5 = rfr_model.predict(x3_test)\n",
    "\n",
    "\n",
    "y_values_rfr = pd.DataFrame()\n",
    "y_values_rfr['Y Predicted'] = pd.DataFrame(y_predict5)\n",
    "y_values_rfr['Y Actual'] = y3_test\n",
    "y_values_rfr['Error'] = y_values_rfr['Y Actual'] - y_values_rfr['Y Predicted']\n",
    "y_values_rfr.round(2)"
   ]
  },
  {
   "cell_type": "code",
   "execution_count": 83,
   "id": "57d64cc3",
   "metadata": {},
   "outputs": [
    {
     "name": "stdout",
     "output_type": "stream",
     "text": [
      "Mean Squared Error      =  0.0011540423084650834\n",
      "Mean Absolute Error     =  0.019175949522683464\n",
      "Root Mean Squared Error =  0.03397119821944883\n"
     ]
    }
   ],
   "source": [
    "mse5 = mean_squared_error(y3_test, y_predict5)\n",
    "mae5 = mean_absolute_error(y3_test, y_predict5)\n",
    "rmse5 = mean_squared_error(y3_test, y_predict5, squared= False)\n",
    "\n",
    "print(\"Mean Squared Error      = \",mse5)\n",
    "print(\"Mean Absolute Error     = \",mae5)\n",
    "print(\"Root Mean Squared Error = \",rmse5)"
   ]
  },
  {
   "cell_type": "markdown",
   "id": "209ebbf7",
   "metadata": {},
   "source": [
    "# since the r2 value is extremely high there is probability that the model is overfitted "
   ]
  },
  {
   "cell_type": "markdown",
   "id": "6a4648e1",
   "metadata": {},
   "source": [
    "# -----------------------------------------------------------------------------------------------\n",
    "# Final Comparison "
   ]
  },
  {
   "cell_type": "code",
   "execution_count": 84,
   "id": "de92007f",
   "metadata": {},
   "outputs": [
    {
     "data": {
      "text/html": [
       "<div>\n",
       "<style scoped>\n",
       "    .dataframe tbody tr th:only-of-type {\n",
       "        vertical-align: middle;\n",
       "    }\n",
       "\n",
       "    .dataframe tbody tr th {\n",
       "        vertical-align: top;\n",
       "    }\n",
       "\n",
       "    .dataframe thead th {\n",
       "        text-align: right;\n",
       "    }\n",
       "</style>\n",
       "<table border=\"1\" class=\"dataframe\">\n",
       "  <thead>\n",
       "    <tr style=\"text-align: right;\">\n",
       "      <th></th>\n",
       "      <th>model</th>\n",
       "      <th>R sq %</th>\n",
       "      <th>MSE</th>\n",
       "      <th>RMSE</th>\n",
       "      <th>MAE</th>\n",
       "    </tr>\n",
       "  </thead>\n",
       "  <tbody>\n",
       "    <tr>\n",
       "      <th>0</th>\n",
       "      <td>Multivariate LR</td>\n",
       "      <td>75.19</td>\n",
       "      <td>0.01</td>\n",
       "      <td>0.10</td>\n",
       "      <td>0.07</td>\n",
       "    </tr>\n",
       "    <tr>\n",
       "      <th>1</th>\n",
       "      <td>Decision Tree</td>\n",
       "      <td>80.73</td>\n",
       "      <td>0.01</td>\n",
       "      <td>0.08</td>\n",
       "      <td>0.05</td>\n",
       "    </tr>\n",
       "    <tr>\n",
       "      <th>2</th>\n",
       "      <td>Random Forest (Bagging)</td>\n",
       "      <td>96.77</td>\n",
       "      <td>0.00</td>\n",
       "      <td>0.03</td>\n",
       "      <td>0.02</td>\n",
       "    </tr>\n",
       "  </tbody>\n",
       "</table>\n",
       "</div>"
      ],
      "text/plain": [
       "                     model  R sq %    MSE  RMSE   MAE\n",
       "0          Multivariate LR    75.19  0.01  0.10  0.07\n",
       "1            Decision Tree    80.73  0.01  0.08  0.05\n",
       "2  Random Forest (Bagging)    96.77  0.00  0.03  0.02"
      ]
     },
     "execution_count": 84,
     "metadata": {},
     "output_type": "execute_result"
    }
   ],
   "source": [
    "model_compare = pd.DataFrame()\n",
    "model_compare['model'] = ['Multivariate LR','Decision Tree','Random Forest (Bagging)']\n",
    "model_compare['R sq % '] = [coef_deter3,test_accuracy1, test_accuracy2]\n",
    "model_compare['MSE'] = [mse3,mse4,mse5]\n",
    "model_compare['RMSE'] = [rmse3, rmse4, rmse5]\n",
    "model_compare['MAE'] = [mae3, mae4, mae5]\n",
    "model_compare.round(2)"
   ]
  },
  {
   "cell_type": "markdown",
   "id": "f77863d0",
   "metadata": {},
   "source": [
    "# Decision Tree gives better accuracy at lower level of error hence decision tree is a better model\n",
    "# random forest is overfitted hence giving extremely high accuracy "
   ]
  },
  {
   "cell_type": "markdown",
   "id": "836a1cf2",
   "metadata": {},
   "source": [
    "# -----------------------------------------------------------------------------------------------\n",
    "# Visual representation of the Predicted values and actual values of Y "
   ]
  },
  {
   "cell_type": "code",
   "execution_count": 85,
   "id": "b8dfa5e0",
   "metadata": {},
   "outputs": [
    {
     "data": {
      "image/png": "[encoded data removed]",
      "text/plain": [
       "<Figure size 1080x360 with 3 Axes>"
      ]
     },
     "metadata": {
      "needs_background": "light"
     },
     "output_type": "display_data"
    }
   ],
   "source": [
    "# Plotting y_test and y_predict\n",
    "\n",
    "plt.figure(figsize = (15,5))\n",
    "plt.subplot(131)\n",
    "\n",
    "index = range(0,len(y3_test[:25]))\n",
    "plt.title(\"linear regression model\")\n",
    "plt.scatter(index, multi_lrm_df['Y Predicted'][:25], marker ='*', label = 'predicted y', s = 40)\n",
    "plt.scatter(index, multi_lrm_df['Y Actual'][:25], marker = \"o\", label = 'Actual y', s = 40)\n",
    "plt.legend()\n",
    "\n",
    "plt.subplot(132)\n",
    "\n",
    "index = range(0,len(y3_test[:25]))\n",
    "plt.title(\"decision Tree regression model\")\n",
    "plt.scatter(index, y_values_dt['Y Predicted'][:25], marker ='*', label = 'predicted y', s = 40)\n",
    "plt.scatter(index, y_values_dt['Y Actual'][:25], marker = \"o\",label = 'Actual y', s = 40)\n",
    "plt.legend()\n",
    "\n",
    "plt.subplot(133)\n",
    "\n",
    "index = range(0,len(y3_test[:25]))\n",
    "plt.title(\"Random Forest regression model\")\n",
    "plt.scatter(index, y_values_rfr['Y Predicted'][:25], marker ='*', label = 'predicted y', s = 40)\n",
    "plt.scatter(index, y_values_rfr['Y Actual'][:25], marker = \"o\",label = 'Actual y', s = 40)\n",
    "plt.legend()\n",
    "\n",
    "plt.show()"
   ]
  },
  {
   "cell_type": "code",
   "execution_count": null,
   "id": "b4bec25f",
   "metadata": {},
   "outputs": [],
   "source": []
  },
  {
   "cell_type": "code",
   "execution_count": null,
   "id": "fc8707b5",
   "metadata": {},
   "outputs": [],
   "source": []
  },
  {
   "cell_type": "code",
   "execution_count": null,
   "id": "6bd9dc16",
   "metadata": {},
   "outputs": [],
   "source": []
  }
 ],
 "metadata": {
  "kernelspec": {
   "display_name": "Python 3 (ipykernel)",
   "language": "python",
   "name": "python3"
  },
  "language_info": {
   "codemirror_mode": {
    "name": "ipython",
    "version": 3
   },
   "file_extension": ".py",
   "mimetype": "text/x-python",
   "name": "python",
   "nbconvert_exporter": "python",
   "pygments_lexer": "ipython3",
   "version": "3.9.12"
  }
 },
 "nbformat": 4,
 "nbformat_minor": 5
}
